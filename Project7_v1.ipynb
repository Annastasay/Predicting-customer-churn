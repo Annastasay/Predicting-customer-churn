{
 "cells": [
  {
   "cell_type": "markdown",
   "metadata": {},
   "source": [
    "# Отток клиентов"
   ]
  },
  {
   "cell_type": "markdown",
   "metadata": {},
   "source": [
    "Из «Бета-Банка» стали уходить клиенты. Каждый месяц. Немного, но заметно. Банковские маркетологи посчитали: сохранять текущих клиентов дешевле, чем привлекать новых.\n",
    "\n",
    "Нужно спрогнозировать, уйдёт клиент из банка в ближайшее время или нет. Вам предоставлены исторические данные о поведении клиентов и расторжении договоров с банком. \n",
    "\n",
    "Постройте модель с предельно большим значением *F1*-меры. Чтобы сдать проект успешно, нужно довести метрику до 0.59. Проверьте *F1*-меру на тестовой выборке самостоятельно.\n",
    "\n",
    "Дополнительно измеряйте *AUC-ROC*, сравнивайте её значение с *F1*-мерой.\n",
    "\n",
    "Источник данных: [https://www.kaggle.com/barelydedicated/bank-customer-churn-modeling](https://www.kaggle.com/barelydedicated/bank-customer-churn-modeling)"
   ]
  },
  {
   "cell_type": "markdown",
   "metadata": {},
   "source": [
    "# Описание данных"
   ]
  },
  {
   "cell_type": "markdown",
   "metadata": {},
   "source": [
    "**Признаки**\n",
    "\n",
    "- RowNumber — индекс строки в данных\n",
    "- CustomerId — уникальный идентификатор клиента\n",
    "- Surname — фамилия\n",
    "- CreditScore — кредитный рейтинг\n",
    "- Geography — страна проживания\n",
    "- Gender — пол\n",
    "- Age — возраст\n",
    "- Tenure — сколько лет человек является клиентом банка\n",
    "- Balance — баланс на счёте\n",
    "- NumOfProducts — количество продуктов банка, используемых клиентом\n",
    "- HasCrCard — наличие кредитной карты\n",
    "- IsActiveMember — активность клиента\n",
    "- EstimatedSalary — предполагаемая зарплата\n",
    "\n",
    "**Целевой признак**\n",
    "- Exited — факт ухода клиента"
   ]
  },
  {
   "cell_type": "markdown",
   "metadata": {},
   "source": [
    "## Подготовка данных"
   ]
  },
  {
   "cell_type": "markdown",
   "metadata": {},
   "source": [
    "**Необходимые библиотеки:**"
   ]
  },
  {
   "cell_type": "code",
   "execution_count": 1,
   "metadata": {},
   "outputs": [],
   "source": [
    "import pandas as pd\n",
    "import seaborn as sns\n",
    "import matplotlib.pyplot as plt\n",
    "\n",
    "from sklearn.model_selection import train_test_split\n",
    "from sklearn.preprocessing import StandardScaler\n",
    "from sklearn.metrics import (\n",
    "    f1_score, \n",
    "    roc_auc_score, \n",
    "    roc_curve,\n",
    "    recall_score)\n",
    "from sklearn.utils import shuffle\n",
    "\n",
    "from sklearn.tree import DecisionTreeClassifier\n",
    "from sklearn.ensemble import RandomForestClassifier\n",
    "from sklearn.linear_model import LogisticRegression\n",
    "\n",
    "\n",
    "import warnings\n",
    "warnings.filterwarnings('ignore')"
   ]
  },
  {
   "cell_type": "code",
   "execution_count": 2,
   "metadata": {},
   "outputs": [],
   "source": [
    "data = pd.read_csv('/datasets/Churn.csv')"
   ]
  },
  {
   "cell_type": "markdown",
   "metadata": {},
   "source": [
    "Для начала работы с данными необходимо сначала изучить информацию о дата сете."
   ]
  },
  {
   "cell_type": "code",
   "execution_count": 3,
   "metadata": {},
   "outputs": [
    {
     "data": {
      "text/html": [
       "<div>\n",
       "<style scoped>\n",
       "    .dataframe tbody tr th:only-of-type {\n",
       "        vertical-align: middle;\n",
       "    }\n",
       "\n",
       "    .dataframe tbody tr th {\n",
       "        vertical-align: top;\n",
       "    }\n",
       "\n",
       "    .dataframe thead th {\n",
       "        text-align: right;\n",
       "    }\n",
       "</style>\n",
       "<table border=\"1\" class=\"dataframe\">\n",
       "  <thead>\n",
       "    <tr style=\"text-align: right;\">\n",
       "      <th></th>\n",
       "      <th>RowNumber</th>\n",
       "      <th>CustomerId</th>\n",
       "      <th>Surname</th>\n",
       "      <th>CreditScore</th>\n",
       "      <th>Geography</th>\n",
       "      <th>Gender</th>\n",
       "      <th>Age</th>\n",
       "      <th>Tenure</th>\n",
       "      <th>Balance</th>\n",
       "      <th>NumOfProducts</th>\n",
       "      <th>HasCrCard</th>\n",
       "      <th>IsActiveMember</th>\n",
       "      <th>EstimatedSalary</th>\n",
       "      <th>Exited</th>\n",
       "    </tr>\n",
       "  </thead>\n",
       "  <tbody>\n",
       "    <tr>\n",
       "      <th>0</th>\n",
       "      <td>1</td>\n",
       "      <td>15634602</td>\n",
       "      <td>Hargrave</td>\n",
       "      <td>619</td>\n",
       "      <td>France</td>\n",
       "      <td>Female</td>\n",
       "      <td>42</td>\n",
       "      <td>2.0</td>\n",
       "      <td>0.00</td>\n",
       "      <td>1</td>\n",
       "      <td>1</td>\n",
       "      <td>1</td>\n",
       "      <td>101348.88</td>\n",
       "      <td>1</td>\n",
       "    </tr>\n",
       "    <tr>\n",
       "      <th>1</th>\n",
       "      <td>2</td>\n",
       "      <td>15647311</td>\n",
       "      <td>Hill</td>\n",
       "      <td>608</td>\n",
       "      <td>Spain</td>\n",
       "      <td>Female</td>\n",
       "      <td>41</td>\n",
       "      <td>1.0</td>\n",
       "      <td>83807.86</td>\n",
       "      <td>1</td>\n",
       "      <td>0</td>\n",
       "      <td>1</td>\n",
       "      <td>112542.58</td>\n",
       "      <td>0</td>\n",
       "    </tr>\n",
       "    <tr>\n",
       "      <th>2</th>\n",
       "      <td>3</td>\n",
       "      <td>15619304</td>\n",
       "      <td>Onio</td>\n",
       "      <td>502</td>\n",
       "      <td>France</td>\n",
       "      <td>Female</td>\n",
       "      <td>42</td>\n",
       "      <td>8.0</td>\n",
       "      <td>159660.80</td>\n",
       "      <td>3</td>\n",
       "      <td>1</td>\n",
       "      <td>0</td>\n",
       "      <td>113931.57</td>\n",
       "      <td>1</td>\n",
       "    </tr>\n",
       "    <tr>\n",
       "      <th>3</th>\n",
       "      <td>4</td>\n",
       "      <td>15701354</td>\n",
       "      <td>Boni</td>\n",
       "      <td>699</td>\n",
       "      <td>France</td>\n",
       "      <td>Female</td>\n",
       "      <td>39</td>\n",
       "      <td>1.0</td>\n",
       "      <td>0.00</td>\n",
       "      <td>2</td>\n",
       "      <td>0</td>\n",
       "      <td>0</td>\n",
       "      <td>93826.63</td>\n",
       "      <td>0</td>\n",
       "    </tr>\n",
       "    <tr>\n",
       "      <th>4</th>\n",
       "      <td>5</td>\n",
       "      <td>15737888</td>\n",
       "      <td>Mitchell</td>\n",
       "      <td>850</td>\n",
       "      <td>Spain</td>\n",
       "      <td>Female</td>\n",
       "      <td>43</td>\n",
       "      <td>2.0</td>\n",
       "      <td>125510.82</td>\n",
       "      <td>1</td>\n",
       "      <td>1</td>\n",
       "      <td>1</td>\n",
       "      <td>79084.10</td>\n",
       "      <td>0</td>\n",
       "    </tr>\n",
       "  </tbody>\n",
       "</table>\n",
       "</div>"
      ],
      "text/plain": [
       "   RowNumber  CustomerId   Surname  CreditScore Geography  Gender  Age  \\\n",
       "0          1    15634602  Hargrave          619    France  Female   42   \n",
       "1          2    15647311      Hill          608     Spain  Female   41   \n",
       "2          3    15619304      Onio          502    France  Female   42   \n",
       "3          4    15701354      Boni          699    France  Female   39   \n",
       "4          5    15737888  Mitchell          850     Spain  Female   43   \n",
       "\n",
       "   Tenure    Balance  NumOfProducts  HasCrCard  IsActiveMember  \\\n",
       "0     2.0       0.00              1          1               1   \n",
       "1     1.0   83807.86              1          0               1   \n",
       "2     8.0  159660.80              3          1               0   \n",
       "3     1.0       0.00              2          0               0   \n",
       "4     2.0  125510.82              1          1               1   \n",
       "\n",
       "   EstimatedSalary  Exited  \n",
       "0        101348.88       1  \n",
       "1        112542.58       0  \n",
       "2        113931.57       1  \n",
       "3         93826.63       0  \n",
       "4         79084.10       0  "
      ]
     },
     "execution_count": 3,
     "metadata": {},
     "output_type": "execute_result"
    }
   ],
   "source": [
    "data.head()"
   ]
  },
  {
   "cell_type": "code",
   "execution_count": 4,
   "metadata": {
    "scrolled": true
   },
   "outputs": [
    {
     "name": "stdout",
     "output_type": "stream",
     "text": [
      "<class 'pandas.core.frame.DataFrame'>\n",
      "RangeIndex: 10000 entries, 0 to 9999\n",
      "Data columns (total 14 columns):\n",
      " #   Column           Non-Null Count  Dtype  \n",
      "---  ------           --------------  -----  \n",
      " 0   RowNumber        10000 non-null  int64  \n",
      " 1   CustomerId       10000 non-null  int64  \n",
      " 2   Surname          10000 non-null  object \n",
      " 3   CreditScore      10000 non-null  int64  \n",
      " 4   Geography        10000 non-null  object \n",
      " 5   Gender           10000 non-null  object \n",
      " 6   Age              10000 non-null  int64  \n",
      " 7   Tenure           9091 non-null   float64\n",
      " 8   Balance          10000 non-null  float64\n",
      " 9   NumOfProducts    10000 non-null  int64  \n",
      " 10  HasCrCard        10000 non-null  int64  \n",
      " 11  IsActiveMember   10000 non-null  int64  \n",
      " 12  EstimatedSalary  10000 non-null  float64\n",
      " 13  Exited           10000 non-null  int64  \n",
      "dtypes: float64(3), int64(8), object(3)\n",
      "memory usage: 1.1+ MB\n"
     ]
    }
   ],
   "source": [
    "data.info()"
   ]
  },
  {
   "cell_type": "code",
   "execution_count": 5,
   "metadata": {},
   "outputs": [
    {
     "data": {
      "text/plain": [
       "(10000, 14)"
      ]
     },
     "execution_count": 5,
     "metadata": {},
     "output_type": "execute_result"
    }
   ],
   "source": [
    "data.shape"
   ]
  },
  {
   "cell_type": "code",
   "execution_count": 7,
   "metadata": {},
   "outputs": [
    {
     "data": {
      "text/html": [
       "<div>\n",
       "<style scoped>\n",
       "    .dataframe tbody tr th:only-of-type {\n",
       "        vertical-align: middle;\n",
       "    }\n",
       "\n",
       "    .dataframe tbody tr th {\n",
       "        vertical-align: top;\n",
       "    }\n",
       "\n",
       "    .dataframe thead th {\n",
       "        text-align: right;\n",
       "    }\n",
       "</style>\n",
       "<table border=\"1\" class=\"dataframe\">\n",
       "  <thead>\n",
       "    <tr style=\"text-align: right;\">\n",
       "      <th></th>\n",
       "      <th>RowNumber</th>\n",
       "      <th>CustomerId</th>\n",
       "      <th>Surname</th>\n",
       "      <th>CreditScore</th>\n",
       "      <th>Geography</th>\n",
       "      <th>Gender</th>\n",
       "      <th>Age</th>\n",
       "      <th>Tenure</th>\n",
       "      <th>Balance</th>\n",
       "      <th>NumOfProducts</th>\n",
       "      <th>HasCrCard</th>\n",
       "      <th>IsActiveMember</th>\n",
       "      <th>EstimatedSalary</th>\n",
       "      <th>Exited</th>\n",
       "    </tr>\n",
       "  </thead>\n",
       "  <tbody>\n",
       "    <tr>\n",
       "      <th>count</th>\n",
       "      <td>10000.00000</td>\n",
       "      <td>1.000000e+04</td>\n",
       "      <td>10000</td>\n",
       "      <td>10000.000000</td>\n",
       "      <td>10000</td>\n",
       "      <td>10000</td>\n",
       "      <td>10000.000000</td>\n",
       "      <td>9091.000000</td>\n",
       "      <td>10000.000000</td>\n",
       "      <td>10000.000000</td>\n",
       "      <td>10000.00000</td>\n",
       "      <td>10000.000000</td>\n",
       "      <td>10000.000000</td>\n",
       "      <td>10000.000000</td>\n",
       "    </tr>\n",
       "    <tr>\n",
       "      <th>unique</th>\n",
       "      <td>NaN</td>\n",
       "      <td>NaN</td>\n",
       "      <td>2932</td>\n",
       "      <td>NaN</td>\n",
       "      <td>3</td>\n",
       "      <td>2</td>\n",
       "      <td>NaN</td>\n",
       "      <td>NaN</td>\n",
       "      <td>NaN</td>\n",
       "      <td>NaN</td>\n",
       "      <td>NaN</td>\n",
       "      <td>NaN</td>\n",
       "      <td>NaN</td>\n",
       "      <td>NaN</td>\n",
       "    </tr>\n",
       "    <tr>\n",
       "      <th>top</th>\n",
       "      <td>NaN</td>\n",
       "      <td>NaN</td>\n",
       "      <td>Smith</td>\n",
       "      <td>NaN</td>\n",
       "      <td>France</td>\n",
       "      <td>Male</td>\n",
       "      <td>NaN</td>\n",
       "      <td>NaN</td>\n",
       "      <td>NaN</td>\n",
       "      <td>NaN</td>\n",
       "      <td>NaN</td>\n",
       "      <td>NaN</td>\n",
       "      <td>NaN</td>\n",
       "      <td>NaN</td>\n",
       "    </tr>\n",
       "    <tr>\n",
       "      <th>freq</th>\n",
       "      <td>NaN</td>\n",
       "      <td>NaN</td>\n",
       "      <td>32</td>\n",
       "      <td>NaN</td>\n",
       "      <td>5014</td>\n",
       "      <td>5457</td>\n",
       "      <td>NaN</td>\n",
       "      <td>NaN</td>\n",
       "      <td>NaN</td>\n",
       "      <td>NaN</td>\n",
       "      <td>NaN</td>\n",
       "      <td>NaN</td>\n",
       "      <td>NaN</td>\n",
       "      <td>NaN</td>\n",
       "    </tr>\n",
       "    <tr>\n",
       "      <th>mean</th>\n",
       "      <td>5000.50000</td>\n",
       "      <td>1.569094e+07</td>\n",
       "      <td>NaN</td>\n",
       "      <td>650.528800</td>\n",
       "      <td>NaN</td>\n",
       "      <td>NaN</td>\n",
       "      <td>38.921800</td>\n",
       "      <td>4.997690</td>\n",
       "      <td>76485.889288</td>\n",
       "      <td>1.530200</td>\n",
       "      <td>0.70550</td>\n",
       "      <td>0.515100</td>\n",
       "      <td>100090.239881</td>\n",
       "      <td>0.203700</td>\n",
       "    </tr>\n",
       "    <tr>\n",
       "      <th>std</th>\n",
       "      <td>2886.89568</td>\n",
       "      <td>7.193619e+04</td>\n",
       "      <td>NaN</td>\n",
       "      <td>96.653299</td>\n",
       "      <td>NaN</td>\n",
       "      <td>NaN</td>\n",
       "      <td>10.487806</td>\n",
       "      <td>2.894723</td>\n",
       "      <td>62397.405202</td>\n",
       "      <td>0.581654</td>\n",
       "      <td>0.45584</td>\n",
       "      <td>0.499797</td>\n",
       "      <td>57510.492818</td>\n",
       "      <td>0.402769</td>\n",
       "    </tr>\n",
       "    <tr>\n",
       "      <th>min</th>\n",
       "      <td>1.00000</td>\n",
       "      <td>1.556570e+07</td>\n",
       "      <td>NaN</td>\n",
       "      <td>350.000000</td>\n",
       "      <td>NaN</td>\n",
       "      <td>NaN</td>\n",
       "      <td>18.000000</td>\n",
       "      <td>0.000000</td>\n",
       "      <td>0.000000</td>\n",
       "      <td>1.000000</td>\n",
       "      <td>0.00000</td>\n",
       "      <td>0.000000</td>\n",
       "      <td>11.580000</td>\n",
       "      <td>0.000000</td>\n",
       "    </tr>\n",
       "    <tr>\n",
       "      <th>25%</th>\n",
       "      <td>2500.75000</td>\n",
       "      <td>1.562853e+07</td>\n",
       "      <td>NaN</td>\n",
       "      <td>584.000000</td>\n",
       "      <td>NaN</td>\n",
       "      <td>NaN</td>\n",
       "      <td>32.000000</td>\n",
       "      <td>2.000000</td>\n",
       "      <td>0.000000</td>\n",
       "      <td>1.000000</td>\n",
       "      <td>0.00000</td>\n",
       "      <td>0.000000</td>\n",
       "      <td>51002.110000</td>\n",
       "      <td>0.000000</td>\n",
       "    </tr>\n",
       "    <tr>\n",
       "      <th>50%</th>\n",
       "      <td>5000.50000</td>\n",
       "      <td>1.569074e+07</td>\n",
       "      <td>NaN</td>\n",
       "      <td>652.000000</td>\n",
       "      <td>NaN</td>\n",
       "      <td>NaN</td>\n",
       "      <td>37.000000</td>\n",
       "      <td>5.000000</td>\n",
       "      <td>97198.540000</td>\n",
       "      <td>1.000000</td>\n",
       "      <td>1.00000</td>\n",
       "      <td>1.000000</td>\n",
       "      <td>100193.915000</td>\n",
       "      <td>0.000000</td>\n",
       "    </tr>\n",
       "    <tr>\n",
       "      <th>75%</th>\n",
       "      <td>7500.25000</td>\n",
       "      <td>1.575323e+07</td>\n",
       "      <td>NaN</td>\n",
       "      <td>718.000000</td>\n",
       "      <td>NaN</td>\n",
       "      <td>NaN</td>\n",
       "      <td>44.000000</td>\n",
       "      <td>7.000000</td>\n",
       "      <td>127644.240000</td>\n",
       "      <td>2.000000</td>\n",
       "      <td>1.00000</td>\n",
       "      <td>1.000000</td>\n",
       "      <td>149388.247500</td>\n",
       "      <td>0.000000</td>\n",
       "    </tr>\n",
       "    <tr>\n",
       "      <th>max</th>\n",
       "      <td>10000.00000</td>\n",
       "      <td>1.581569e+07</td>\n",
       "      <td>NaN</td>\n",
       "      <td>850.000000</td>\n",
       "      <td>NaN</td>\n",
       "      <td>NaN</td>\n",
       "      <td>92.000000</td>\n",
       "      <td>10.000000</td>\n",
       "      <td>250898.090000</td>\n",
       "      <td>4.000000</td>\n",
       "      <td>1.00000</td>\n",
       "      <td>1.000000</td>\n",
       "      <td>199992.480000</td>\n",
       "      <td>1.000000</td>\n",
       "    </tr>\n",
       "  </tbody>\n",
       "</table>\n",
       "</div>"
      ],
      "text/plain": [
       "          RowNumber    CustomerId Surname   CreditScore Geography Gender  \\\n",
       "count   10000.00000  1.000000e+04   10000  10000.000000     10000  10000   \n",
       "unique          NaN           NaN    2932           NaN         3      2   \n",
       "top             NaN           NaN   Smith           NaN    France   Male   \n",
       "freq            NaN           NaN      32           NaN      5014   5457   \n",
       "mean     5000.50000  1.569094e+07     NaN    650.528800       NaN    NaN   \n",
       "std      2886.89568  7.193619e+04     NaN     96.653299       NaN    NaN   \n",
       "min         1.00000  1.556570e+07     NaN    350.000000       NaN    NaN   \n",
       "25%      2500.75000  1.562853e+07     NaN    584.000000       NaN    NaN   \n",
       "50%      5000.50000  1.569074e+07     NaN    652.000000       NaN    NaN   \n",
       "75%      7500.25000  1.575323e+07     NaN    718.000000       NaN    NaN   \n",
       "max     10000.00000  1.581569e+07     NaN    850.000000       NaN    NaN   \n",
       "\n",
       "                 Age       Tenure        Balance  NumOfProducts    HasCrCard  \\\n",
       "count   10000.000000  9091.000000   10000.000000   10000.000000  10000.00000   \n",
       "unique           NaN          NaN            NaN            NaN          NaN   \n",
       "top              NaN          NaN            NaN            NaN          NaN   \n",
       "freq             NaN          NaN            NaN            NaN          NaN   \n",
       "mean       38.921800     4.997690   76485.889288       1.530200      0.70550   \n",
       "std        10.487806     2.894723   62397.405202       0.581654      0.45584   \n",
       "min        18.000000     0.000000       0.000000       1.000000      0.00000   \n",
       "25%        32.000000     2.000000       0.000000       1.000000      0.00000   \n",
       "50%        37.000000     5.000000   97198.540000       1.000000      1.00000   \n",
       "75%        44.000000     7.000000  127644.240000       2.000000      1.00000   \n",
       "max        92.000000    10.000000  250898.090000       4.000000      1.00000   \n",
       "\n",
       "        IsActiveMember  EstimatedSalary        Exited  \n",
       "count     10000.000000     10000.000000  10000.000000  \n",
       "unique             NaN              NaN           NaN  \n",
       "top                NaN              NaN           NaN  \n",
       "freq               NaN              NaN           NaN  \n",
       "mean          0.515100    100090.239881      0.203700  \n",
       "std           0.499797     57510.492818      0.402769  \n",
       "min           0.000000        11.580000      0.000000  \n",
       "25%           0.000000     51002.110000      0.000000  \n",
       "50%           1.000000    100193.915000      0.000000  \n",
       "75%           1.000000    149388.247500      0.000000  \n",
       "max           1.000000    199992.480000      1.000000  "
      ]
     },
     "execution_count": 7,
     "metadata": {},
     "output_type": "execute_result"
    }
   ],
   "source": [
    "data.describe(include='all')"
   ]
  },
  {
   "cell_type": "markdown",
   "metadata": {},
   "source": [
    "Проверим есть ли в данных пропуски и сколько их."
   ]
  },
  {
   "cell_type": "code",
   "execution_count": 8,
   "metadata": {
    "scrolled": true
   },
   "outputs": [
    {
     "data": {
      "text/plain": [
       "RowNumber            0\n",
       "CustomerId           0\n",
       "Surname              0\n",
       "CreditScore          0\n",
       "Geography            0\n",
       "Gender               0\n",
       "Age                  0\n",
       "Tenure             909\n",
       "Balance              0\n",
       "NumOfProducts        0\n",
       "HasCrCard            0\n",
       "IsActiveMember       0\n",
       "EstimatedSalary      0\n",
       "Exited               0\n",
       "dtype: int64"
      ]
     },
     "execution_count": 8,
     "metadata": {},
     "output_type": "execute_result"
    }
   ],
   "source": [
    "data.isna().sum()"
   ]
  },
  {
   "cell_type": "markdown",
   "metadata": {},
   "source": [
    "В нашем датасете есть пропуски только в столбце Tenure (сколько лет человек является клиентом банка). В атрибуте пропущенна почти десятая часть значений, при этом данный признак может быть значительно важным при рассмотрении зависимости срока пребывания клиентом банка и отказом человека от услуг этого банка. Поэтому стоит уделить внимание обработке этих пропусков. Заменим данные пропуски медианным значением."
   ]
  },
  {
   "cell_type": "code",
   "execution_count": 9,
   "metadata": {
    "scrolled": true
   },
   "outputs": [
    {
     "data": {
      "text/plain": [
       "RowNumber          0\n",
       "CustomerId         0\n",
       "Surname            0\n",
       "CreditScore        0\n",
       "Geography          0\n",
       "Gender             0\n",
       "Age                0\n",
       "Tenure             0\n",
       "Balance            0\n",
       "NumOfProducts      0\n",
       "HasCrCard          0\n",
       "IsActiveMember     0\n",
       "EstimatedSalary    0\n",
       "Exited             0\n",
       "dtype: int64"
      ]
     },
     "execution_count": 9,
     "metadata": {},
     "output_type": "execute_result"
    }
   ],
   "source": [
    "medians = data['Tenure'].median()\n",
    "data['Tenure'] = data['Tenure'].fillna(medians)\n",
    "data.isna().sum()"
   ]
  },
  {
   "cell_type": "markdown",
   "metadata": {},
   "source": [
    "Так же проверим, есть ли в наших данных явные дубликаты"
   ]
  },
  {
   "cell_type": "code",
   "execution_count": 10,
   "metadata": {
    "scrolled": false
   },
   "outputs": [
    {
     "data": {
      "text/plain": [
       "0"
      ]
     },
     "execution_count": 10,
     "metadata": {},
     "output_type": "execute_result"
    }
   ],
   "source": [
    "data.duplicated().sum()"
   ]
  },
  {
   "cell_type": "markdown",
   "metadata": {},
   "source": [
    "Удалим некоторые столбцы, которые мы не сможем в дальнейшем использовать при машинном обучении и которые будут создавать нам помехи:RowNumber, CustomerId, Surname."
   ]
  },
  {
   "cell_type": "code",
   "execution_count": 11,
   "metadata": {},
   "outputs": [],
   "source": [
    "data = data.drop(['RowNumber', 'CustomerId', 'Surname'], axis=1)"
   ]
  },
  {
   "cell_type": "markdown",
   "metadata": {},
   "source": [
    "**Вывод**\n",
    "\n",
    "Мы сделали подготовительный этап перед обучением модели:\n",
    "\n",
    "- посмотрели какие данные хранятся в датасете.\n",
    "- посмотрели тип хранимых данных.\n",
    "- проверили данные на дубликаты и пропуски значений."
   ]
  },
  {
   "cell_type": "markdown",
   "metadata": {},
   "source": [
    "## Исследование задачи"
   ]
  },
  {
   "cell_type": "markdown",
   "metadata": {},
   "source": [
    "Для оценки баланса классов проверим соотношение ушедших и оставшихся клиентов."
   ]
  },
  {
   "cell_type": "code",
   "execution_count": 12,
   "metadata": {
    "scrolled": true
   },
   "outputs": [
    {
     "data": {
      "image/png": "[encoded data removed]",
      "text/plain": [
       "<Figure size 432x288 with 1 Axes>"
      ]
     },
     "metadata": {
      "needs_background": "light"
     },
     "output_type": "display_data"
    }
   ],
   "source": [
    "data['Exited'].value_counts().plot(kind='bar', title = 'Соотношение ушедших и оставшихся клиентов')\n",
    "plt.show()"
   ]
  },
  {
   "cell_type": "markdown",
   "metadata": {},
   "source": [
    "Распределение данных далеко от соотношения 1:1, преобладание оставшихся клиентов. По графику видно, что соотношение данных 1:4."
   ]
  },
  {
   "cell_type": "markdown",
   "metadata": {},
   "source": [
    "Для обучения модели приведем сначала все категориальные данные в числовые значения с помощью техники прямого кодирования - One-Hot Encoding. К категориальным признакам из дата сета у нас будут относится Географическое положение и Гендер. Чтобы избежать дамми-ловушки удалим первый столбец новых значений."
   ]
  },
  {
   "cell_type": "code",
   "execution_count": 13,
   "metadata": {
    "scrolled": false
   },
   "outputs": [],
   "source": [
    "data_ohe = pd.get_dummies(data, drop_first=True)"
   ]
  },
  {
   "cell_type": "code",
   "execution_count": 14,
   "metadata": {
    "scrolled": true
   },
   "outputs": [
    {
     "data": {
      "text/html": [
       "<div>\n",
       "<style scoped>\n",
       "    .dataframe tbody tr th:only-of-type {\n",
       "        vertical-align: middle;\n",
       "    }\n",
       "\n",
       "    .dataframe tbody tr th {\n",
       "        vertical-align: top;\n",
       "    }\n",
       "\n",
       "    .dataframe thead th {\n",
       "        text-align: right;\n",
       "    }\n",
       "</style>\n",
       "<table border=\"1\" class=\"dataframe\">\n",
       "  <thead>\n",
       "    <tr style=\"text-align: right;\">\n",
       "      <th></th>\n",
       "      <th>CreditScore</th>\n",
       "      <th>Age</th>\n",
       "      <th>Tenure</th>\n",
       "      <th>Balance</th>\n",
       "      <th>NumOfProducts</th>\n",
       "      <th>HasCrCard</th>\n",
       "      <th>IsActiveMember</th>\n",
       "      <th>EstimatedSalary</th>\n",
       "      <th>Exited</th>\n",
       "      <th>Geography_Germany</th>\n",
       "      <th>Geography_Spain</th>\n",
       "      <th>Gender_Male</th>\n",
       "    </tr>\n",
       "  </thead>\n",
       "  <tbody>\n",
       "    <tr>\n",
       "      <th>0</th>\n",
       "      <td>619</td>\n",
       "      <td>42</td>\n",
       "      <td>2.0</td>\n",
       "      <td>0.00</td>\n",
       "      <td>1</td>\n",
       "      <td>1</td>\n",
       "      <td>1</td>\n",
       "      <td>101348.88</td>\n",
       "      <td>1</td>\n",
       "      <td>0</td>\n",
       "      <td>0</td>\n",
       "      <td>0</td>\n",
       "    </tr>\n",
       "    <tr>\n",
       "      <th>1</th>\n",
       "      <td>608</td>\n",
       "      <td>41</td>\n",
       "      <td>1.0</td>\n",
       "      <td>83807.86</td>\n",
       "      <td>1</td>\n",
       "      <td>0</td>\n",
       "      <td>1</td>\n",
       "      <td>112542.58</td>\n",
       "      <td>0</td>\n",
       "      <td>0</td>\n",
       "      <td>1</td>\n",
       "      <td>0</td>\n",
       "    </tr>\n",
       "    <tr>\n",
       "      <th>2</th>\n",
       "      <td>502</td>\n",
       "      <td>42</td>\n",
       "      <td>8.0</td>\n",
       "      <td>159660.80</td>\n",
       "      <td>3</td>\n",
       "      <td>1</td>\n",
       "      <td>0</td>\n",
       "      <td>113931.57</td>\n",
       "      <td>1</td>\n",
       "      <td>0</td>\n",
       "      <td>0</td>\n",
       "      <td>0</td>\n",
       "    </tr>\n",
       "    <tr>\n",
       "      <th>3</th>\n",
       "      <td>699</td>\n",
       "      <td>39</td>\n",
       "      <td>1.0</td>\n",
       "      <td>0.00</td>\n",
       "      <td>2</td>\n",
       "      <td>0</td>\n",
       "      <td>0</td>\n",
       "      <td>93826.63</td>\n",
       "      <td>0</td>\n",
       "      <td>0</td>\n",
       "      <td>0</td>\n",
       "      <td>0</td>\n",
       "    </tr>\n",
       "    <tr>\n",
       "      <th>4</th>\n",
       "      <td>850</td>\n",
       "      <td>43</td>\n",
       "      <td>2.0</td>\n",
       "      <td>125510.82</td>\n",
       "      <td>1</td>\n",
       "      <td>1</td>\n",
       "      <td>1</td>\n",
       "      <td>79084.10</td>\n",
       "      <td>0</td>\n",
       "      <td>0</td>\n",
       "      <td>1</td>\n",
       "      <td>0</td>\n",
       "    </tr>\n",
       "  </tbody>\n",
       "</table>\n",
       "</div>"
      ],
      "text/plain": [
       "   CreditScore  Age  Tenure    Balance  NumOfProducts  HasCrCard  \\\n",
       "0          619   42     2.0       0.00              1          1   \n",
       "1          608   41     1.0   83807.86              1          0   \n",
       "2          502   42     8.0  159660.80              3          1   \n",
       "3          699   39     1.0       0.00              2          0   \n",
       "4          850   43     2.0  125510.82              1          1   \n",
       "\n",
       "   IsActiveMember  EstimatedSalary  Exited  Geography_Germany  \\\n",
       "0               1        101348.88       1                  0   \n",
       "1               1        112542.58       0                  0   \n",
       "2               0        113931.57       1                  0   \n",
       "3               0         93826.63       0                  0   \n",
       "4               1         79084.10       0                  0   \n",
       "\n",
       "   Geography_Spain  Gender_Male  \n",
       "0                0            0  \n",
       "1                1            0  \n",
       "2                0            0  \n",
       "3                0            0  \n",
       "4                1            0  "
      ]
     },
     "execution_count": 14,
     "metadata": {},
     "output_type": "execute_result"
    }
   ],
   "source": [
    "data_ohe.head()"
   ]
  },
  {
   "cell_type": "markdown",
   "metadata": {},
   "source": [
    "Выделим признаки и целевой признак."
   ]
  },
  {
   "cell_type": "code",
   "execution_count": 15,
   "metadata": {},
   "outputs": [],
   "source": [
    "features = data_ohe.drop(['Exited'], axis = 1)\n",
    "target = data_ohe['Exited']"
   ]
  },
  {
   "cell_type": "markdown",
   "metadata": {},
   "source": [
    "Разделим данные на три части: на обучающую, валидационную и тестовую выборки в соотношении 60:20:20. И после проверим их размеры, чтобы убедиться, что все верно поделилось."
   ]
  },
  {
   "cell_type": "code",
   "execution_count": 16,
   "metadata": {},
   "outputs": [],
   "source": [
    "#Сначала отсекаем 60% данных для обучающей выборки.\n",
    "\n",
    "features_train, features_valid, target_train, target_valid = train_test_split(features, target, \n",
    "                                                                              test_size = 0.4, random_state = 12345)\n",
    "#Теперь делим эту часть пополам.\n",
    "\n",
    "features_valid,features_test, target_valid, target_test = train_test_split(features_valid, target_valid, \n",
    "                                                                              test_size = 0.5, random_state = 12345)"
   ]
  },
  {
   "cell_type": "code",
   "execution_count": 17,
   "metadata": {
    "scrolled": true
   },
   "outputs": [
    {
     "data": {
      "text/plain": [
       "(10000, 11)"
      ]
     },
     "execution_count": 17,
     "metadata": {},
     "output_type": "execute_result"
    }
   ],
   "source": [
    "features.shape"
   ]
  },
  {
   "cell_type": "code",
   "execution_count": 18,
   "metadata": {},
   "outputs": [
    {
     "data": {
      "text/plain": [
       "(6000, 11)"
      ]
     },
     "execution_count": 18,
     "metadata": {},
     "output_type": "execute_result"
    }
   ],
   "source": [
    "#Размер обучающей выборки:\n",
    "features_train.shape"
   ]
  },
  {
   "cell_type": "code",
   "execution_count": 19,
   "metadata": {},
   "outputs": [
    {
     "data": {
      "text/plain": [
       "(2000, 11)"
      ]
     },
     "execution_count": 19,
     "metadata": {},
     "output_type": "execute_result"
    }
   ],
   "source": [
    "#Размер валидационной выборки:\n",
    "features_valid.shape"
   ]
  },
  {
   "cell_type": "code",
   "execution_count": 20,
   "metadata": {},
   "outputs": [
    {
     "data": {
      "text/plain": [
       "(2000, 11)"
      ]
     },
     "execution_count": 20,
     "metadata": {},
     "output_type": "execute_result"
    }
   ],
   "source": [
    "#Размер тестовой выборки:\n",
    "features_test.shape"
   ]
  },
  {
   "cell_type": "markdown",
   "metadata": {},
   "source": [
    "У признаков разный масштаб, что может привести к некорректному обучению модели, где какие-то признаки с большим диапазоном могут иметь больший вес, нежели признаки с меньшим диапазоном значений."
   ]
  },
  {
   "cell_type": "code",
   "execution_count": 21,
   "metadata": {},
   "outputs": [],
   "source": [
    "numeric = ['CreditScore', 'Age', 'Tenure', 'Balance', 'NumOfProducts', 'EstimatedSalary']\n",
    "scaler = StandardScaler()\n",
    "scaler.fit(features_train[numeric])\n",
    "features_train[numeric] = scaler.transform(features_train[numeric])\n",
    "features_valid[numeric] = scaler.transform(features_valid[numeric])\n",
    "features_test[numeric] = scaler.transform(features_test[numeric])"
   ]
  },
  {
   "cell_type": "markdown",
   "metadata": {},
   "source": [
    "Построим разные модели и посмотрим, какая из них лучше: Решающее дерево, Случайный лес, Логистическая регерссия."
   ]
  },
  {
   "cell_type": "markdown",
   "metadata": {},
   "source": [
    "### Решающее дерево"
   ]
  },
  {
   "cell_type": "code",
   "execution_count": 22,
   "metadata": {
    "scrolled": false
   },
   "outputs": [
    {
     "name": "stdout",
     "output_type": "stream",
     "text": [
      "Показатели лучшей модели: глубина деревьев: 6 f1-мера 0.5696969696969697\n"
     ]
    }
   ],
   "source": [
    "#Для дерева нам необходимо найти максимальную глубину для модели\n",
    "max_depth = 0\n",
    "max_model_tree = None\n",
    "f1 = 0\n",
    "for depth in range(1, 10):\n",
    "    model = DecisionTreeClassifier(max_depth = depth, random_state = 12345)\n",
    "    model.fit(features_train, target_train)\n",
    "    predictions = model.predict(features_valid)\n",
    "    score = f1_score(target_valid, predictions)\n",
    "    if score>f1:\n",
    "        max_depth = depth\n",
    "        max_model_tree = model\n",
    "        f1 = score\n",
    "print('Показатели лучшей модели: глубина деревьев:', max_depth, 'f1-мера', f1)   "
   ]
  },
  {
   "cell_type": "code",
   "execution_count": 23,
   "metadata": {},
   "outputs": [
    {
     "name": "stdout",
     "output_type": "stream",
     "text": [
      "Площадь ROC-кривой: 0.5870780551015555\n"
     ]
    }
   ],
   "source": [
    "probabilities = max_model_tree.predict_proba(features)\n",
    "probabilities_one = probabilities[:, 1]\n",
    "print('Площадь ROC-кривой:', roc_auc_score(target, probabilities_one))"
   ]
  },
  {
   "cell_type": "markdown",
   "metadata": {},
   "source": [
    "### Случайный лес"
   ]
  },
  {
   "cell_type": "code",
   "execution_count": 25,
   "metadata": {
    "scrolled": true
   },
   "outputs": [
    {
     "name": "stdout",
     "output_type": "stream",
     "text": [
      "Показатели лучшей модели: число деревьев: 90 глубина деревьев: 12 f1-мера 0.5896656534954408\n"
     ]
    }
   ],
   "source": [
    "max_depth = 0\n",
    "max_estimator = 0\n",
    "f1 = 0\n",
    "max_model_forest = None\n",
    "for est in range(10, 151, 10):\n",
    "    for depth in range(1, 16):\n",
    "        model = RandomForestClassifier(random_state=12345, n_estimators=est, max_depth=depth)\n",
    "        model.fit(features_train, target_train)\n",
    "        predictions = model.predict(features_valid)\n",
    "        score = f1_score(target_valid, predictions)\n",
    "        if score>f1:\n",
    "            max_depth = depth\n",
    "            max_estimator = est\n",
    "            max_model_forest = model\n",
    "            f1 = score\n",
    "        #print('Estimators:', est, 'depth:', depth, 'f1:', score)\n",
    "        \n",
    "print('Показатели лучшей модели: число деревьев:', max_estimator, 'глубина деревьев:', max_depth, 'f1-мера', f1)"
   ]
  },
  {
   "cell_type": "code",
   "execution_count": 26,
   "metadata": {},
   "outputs": [
    {
     "name": "stdout",
     "output_type": "stream",
     "text": [
      "Площадь ROC-кривой: 0.4573122032059049\n"
     ]
    }
   ],
   "source": [
    "probabilities = max_model_forest.predict_proba(features)\n",
    "probabilities_one = probabilities[:, 1]\n",
    "print('Площадь ROC-кривой:', roc_auc_score(target, probabilities_one))"
   ]
  },
  {
   "cell_type": "markdown",
   "metadata": {},
   "source": [
    "### Логистическая регрессия"
   ]
  },
  {
   "cell_type": "code",
   "execution_count": 27,
   "metadata": {
    "scrolled": false
   },
   "outputs": [
    {
     "name": "stdout",
     "output_type": "stream",
     "text": [
      "F1-мера при логистической регресии 0.33108108108108103\n"
     ]
    }
   ],
   "source": [
    "model_lr = LogisticRegression(random_state = 12345, solver='liblinear')\n",
    "model_lr.fit(features_train, target_train)\n",
    "predictions = model_lr.predict(features_valid)\n",
    "score = f1_score(target_valid, predictions)\n",
    "print('F1-мера при логистической регресии', score)"
   ]
  },
  {
   "cell_type": "code",
   "execution_count": 28,
   "metadata": {},
   "outputs": [
    {
     "name": "stdout",
     "output_type": "stream",
     "text": [
      "Площадь ROC-кривой: 0.501403706181344\n"
     ]
    }
   ],
   "source": [
    "probabilities = model_lr.predict_proba(features)\n",
    "probabilities_one = probabilities[:, 1]\n",
    "print('Площадь ROC-кривой:', roc_auc_score(target, probabilities_one))"
   ]
  },
  {
   "cell_type": "markdown",
   "metadata": {},
   "source": [
    "**Вывод**\n",
    "\n",
    "Мы посмотрели в каком состоянии у нас ноходится баланс классов - в датасете данных по клиентам, осташимся в компании намного больше, нежели по тем клиентам, кто ушел от компании.\n",
    "Мы обучили модель с помощью трех разных алгоритмов и получили следующие результаты:\n",
    "- Решающее дерево:\n",
    "    Лучшее значение модели: 0.569 при глубине дерева 6.\n",
    "- Случайный лес:\n",
    "    Лучшее значение модели: 0.589 при 90 деревьях и глубине 12.\n",
    "- Логистическая регрессия:\n",
    "    Значение модели: 0.331\n",
    "    \n",
    "Лучший показатель F1-меры в итоге получился у случайного леса."
   ]
  },
  {
   "cell_type": "markdown",
   "metadata": {},
   "source": [
    "## Борьба с дисбалансом"
   ]
  },
  {
   "cell_type": "markdown",
   "metadata": {},
   "source": [
    "Так как количество данных о клиентах, ушедших из банка меньше, чем о клиентах, оставшихся, необходимо решить проблему с дисбалансом классов. Применим следующие техники для наших моделей:\n",
    "\n",
    "    - Взвешивание классов\n",
    "    - Upsampling\n",
    "    - Downsampling"
   ]
  },
  {
   "cell_type": "markdown",
   "metadata": {},
   "source": [
    "### Взвешивание классов"
   ]
  },
  {
   "cell_type": "markdown",
   "metadata": {},
   "source": [
    "#### Решающее дерево"
   ]
  },
  {
   "cell_type": "code",
   "execution_count": 29,
   "metadata": {
    "scrolled": true
   },
   "outputs": [
    {
     "name": "stdout",
     "output_type": "stream",
     "text": [
      "Показатели лучшей модели: глубина деревьев: 5 f1-мера 0.5963791267305644\n"
     ]
    }
   ],
   "source": [
    "#Для дерева нам необходимо найти максимальную глубину для модели\n",
    "max_depth = 0\n",
    "max_model_tree_v1 = None\n",
    "f1 = 0\n",
    "for depth in range(1, 20):\n",
    "    model = DecisionTreeClassifier(max_depth = depth, random_state = 12345, class_weight='balanced')\n",
    "    model.fit(features_train, target_train)\n",
    "    predictions = model.predict(features_valid)\n",
    "    score = f1_score(target_valid, predictions)\n",
    "    if score>f1:\n",
    "        max_depth = depth\n",
    "        max_model_tree_v1 = model\n",
    "        f1 = score\n",
    "print('Показатели лучшей модели: глубина деревьев:', max_depth, 'f1-мера', f1)   "
   ]
  },
  {
   "cell_type": "code",
   "execution_count": 30,
   "metadata": {},
   "outputs": [
    {
     "name": "stdout",
     "output_type": "stream",
     "text": [
      "Площадь ROC-кривой: 0.615809828853144\n"
     ]
    }
   ],
   "source": [
    "probabilities = max_model_tree_v1.predict_proba(features)\n",
    "probabilities_one = probabilities[:, 1]\n",
    "print('Площадь ROC-кривой:', roc_auc_score(target, probabilities_one))"
   ]
  },
  {
   "cell_type": "markdown",
   "metadata": {},
   "source": [
    "При балансировке классов показатели модели немного улучшились: \n",
    "- стандартная модель: 0.569\n",
    "- взвешивание классов: 0.596"
   ]
  },
  {
   "cell_type": "markdown",
   "metadata": {},
   "source": [
    "#### Случайный лес"
   ]
  },
  {
   "cell_type": "code",
   "execution_count": 32,
   "metadata": {},
   "outputs": [
    {
     "name": "stdout",
     "output_type": "stream",
     "text": [
      "Показатели лучшей модели: число деревьев: 90 глубина деревьев: 9 f1-мера 0.6298850574712643\n"
     ]
    }
   ],
   "source": [
    "max_depth = 0\n",
    "max_estimator = 0\n",
    "f1 = 0\n",
    "max_model_forest_v1 = None\n",
    "for est in range(10, 100, 10):\n",
    "    for depth in range(1, 20):\n",
    "        model = RandomForestClassifier(random_state=12345, n_estimators=est, max_depth=depth, class_weight='balanced')\n",
    "        model.fit(features_train, target_train)\n",
    "        predictions = model.predict(features_valid)\n",
    "        score = f1_score(target_valid, predictions)\n",
    "        if score>f1:\n",
    "            max_depth = depth\n",
    "            max_estimator = est\n",
    "            max_model_forest_v1 = model\n",
    "            f1 = score\n",
    "        #print('Estimators:', est, 'depth:', depth, 'f1:', score)\n",
    "        \n",
    "print('Показатели лучшей модели: число деревьев:', max_estimator, 'глубина деревьев:', max_depth, 'f1-мера', f1)"
   ]
  },
  {
   "cell_type": "code",
   "execution_count": 33,
   "metadata": {},
   "outputs": [
    {
     "name": "stdout",
     "output_type": "stream",
     "text": [
      "Площадь ROC-кривой: 0.4119884423731728\n"
     ]
    }
   ],
   "source": [
    "probabilities = max_model_forest_v1.predict_proba(features)\n",
    "probabilities_one = probabilities[:, 1]\n",
    "print('Площадь ROC-кривой:', roc_auc_score(target, probabilities_one))"
   ]
  },
  {
   "cell_type": "markdown",
   "metadata": {},
   "source": [
    "При балансировке классов показатели модели значительно улучшились: \n",
    "- стандартная модель: 0.589\n",
    "- взвешивание классов: 0.628"
   ]
  },
  {
   "cell_type": "markdown",
   "metadata": {},
   "source": [
    "#### Логистическая регрессия"
   ]
  },
  {
   "cell_type": "code",
   "execution_count": 34,
   "metadata": {},
   "outputs": [
    {
     "name": "stdout",
     "output_type": "stream",
     "text": [
      "F1-мера при логистической регресии 0.5526717557251908\n"
     ]
    }
   ],
   "source": [
    "model_lr_v1 = LogisticRegression(random_state = 12345, solver='liblinear', class_weight='balanced')\n",
    "model_lr_v1.fit(features_train, target_train)\n",
    "predictions = model.predict(features_valid)\n",
    "score = f1_score(target_valid, predictions)\n",
    "print('F1-мера при логистической регресии', score)"
   ]
  },
  {
   "cell_type": "code",
   "execution_count": 35,
   "metadata": {},
   "outputs": [
    {
     "name": "stdout",
     "output_type": "stream",
     "text": [
      "Площадь ROC-кривой: 0.5017239464975192\n"
     ]
    }
   ],
   "source": [
    "probabilities = model_lr_v1.predict_proba(features)\n",
    "probabilities_one = probabilities[:, 1]\n",
    "print('Площадь ROC-кривой:', roc_auc_score(target, probabilities_one))"
   ]
  },
  {
   "cell_type": "markdown",
   "metadata": {},
   "source": [
    "А вот в логистической регресии по сравнению с прошлой моделью, показатель вырос значительно:\n",
    "- стандартная модель: 0.331\n",
    "- взвешивание классов: 0.571"
   ]
  },
  {
   "cell_type": "markdown",
   "metadata": {},
   "source": [
    "### Upsampling"
   ]
  },
  {
   "cell_type": "code",
   "execution_count": 36,
   "metadata": {},
   "outputs": [],
   "source": [
    "def upsample(features, target, repeat):\n",
    "    features_zeros = features[target == 0]\n",
    "    features_ones = features[target == 1]\n",
    "    target_zeros = target[target == 0]\n",
    "    target_ones = target[target == 1]\n",
    "\n",
    "    features_upsampled = pd.concat([features_zeros] + [features_ones] * repeat)\n",
    "    target_upsampled = pd.concat([target_zeros] + [target_ones] * repeat)\n",
    "    \n",
    "    features_upsampled, target_upsampled = shuffle(\n",
    "        features_upsampled, target_upsampled, random_state=12345)\n",
    "    \n",
    "    return features_upsampled, target_upsampled\n",
    "\n",
    "features_upsampled, target_upsampled = upsample(features_train, target_train, 4)"
   ]
  },
  {
   "cell_type": "markdown",
   "metadata": {},
   "source": [
    "#### Решающее дерево"
   ]
  },
  {
   "cell_type": "code",
   "execution_count": 38,
   "metadata": {},
   "outputs": [
    {
     "name": "stdout",
     "output_type": "stream",
     "text": [
      "Показатели лучшей модели: глубина деревьев: 5 f1-мера 0.5963791267305644\n"
     ]
    }
   ],
   "source": [
    "#Для дерева нам необходимо найти максимальную глубину для модели\n",
    "max_depth = 0\n",
    "max_model_tree_v2 = None\n",
    "f1 = 0\n",
    "for depth in range(1, 20):\n",
    "    model = DecisionTreeClassifier(max_depth = depth, random_state = 12345)\n",
    "    model.fit(features_upsampled, target_upsampled)\n",
    "    predictions = model.predict(features_valid)\n",
    "    score = f1_score(target_valid, predictions)\n",
    "    if score>f1:\n",
    "        max_depth = depth\n",
    "        max_model_tree_v2 = model\n",
    "        f1 = score\n",
    "print('Показатели лучшей модели: глубина деревьев:', max_depth, 'f1-мера', f1) "
   ]
  },
  {
   "cell_type": "code",
   "execution_count": 39,
   "metadata": {},
   "outputs": [
    {
     "name": "stdout",
     "output_type": "stream",
     "text": [
      "Площадь ROC-кривой: 0.615809828853144\n"
     ]
    }
   ],
   "source": [
    "probabilities = max_model_tree_v2.predict_proba(features)\n",
    "probabilities_one = probabilities[:, 1]\n",
    "print('Площадь ROC-кривой:', roc_auc_score(target, probabilities_one))"
   ]
  },
  {
   "cell_type": "markdown",
   "metadata": {},
   "source": [
    "При балансировке классов показатели модели не изменились: \n",
    "- стандартная модель: 0.569\n",
    "- взвешивание классов: 0.596\n",
    "- upsampling: 0.596"
   ]
  },
  {
   "cell_type": "markdown",
   "metadata": {},
   "source": [
    "#### Случайный лес"
   ]
  },
  {
   "cell_type": "code",
   "execution_count": 41,
   "metadata": {},
   "outputs": [
    {
     "name": "stdout",
     "output_type": "stream",
     "text": [
      "Показатели лучшей модели: число деревьев: 70 глубина деревьев: 9 f1-мера 0.6291179596174282\n"
     ]
    }
   ],
   "source": [
    "max_depth = 0\n",
    "max_estimator = 0\n",
    "f1 = 0\n",
    "max_model_forest_v2 = None\n",
    "for est in range(10, 100, 10):\n",
    "    for depth in range(1, 20):\n",
    "        model = RandomForestClassifier(random_state=12345, n_estimators=est, max_depth=depth)\n",
    "        model.fit(features_upsampled, target_upsampled)\n",
    "        predictions = model.predict(features_valid)\n",
    "        score = f1_score(target_valid, predictions)\n",
    "        if score>f1:\n",
    "            max_depth = depth\n",
    "            max_estimator = est\n",
    "            max_model_forest_v2 = model\n",
    "            f1 = score\n",
    "        #print('Estimators:', est, 'depth:', depth, 'f1:', score)\n",
    "        \n",
    "print('Показатели лучшей модели: число деревьев:', max_estimator, 'глубина деревьев:', max_depth, 'f1-мера', f1)"
   ]
  },
  {
   "cell_type": "code",
   "execution_count": 42,
   "metadata": {},
   "outputs": [
    {
     "name": "stdout",
     "output_type": "stream",
     "text": [
      "Площадь ROC-кривой: 0.40984712616913616\n"
     ]
    }
   ],
   "source": [
    "probabilities = max_model_forest_v2.predict_proba(features)\n",
    "probabilities_one = probabilities[:, 1]\n",
    "print('Площадь ROC-кривой:', roc_auc_score(target, probabilities_one))"
   ]
  },
  {
   "cell_type": "markdown",
   "metadata": {},
   "source": [
    "При балансировке классов показатели модели почти не изменились: \n",
    "- стандартная модель: 0.589\n",
    "- взвешивание классов: 0.628\n",
    "- upsampling: 0.629"
   ]
  },
  {
   "cell_type": "markdown",
   "metadata": {},
   "source": [
    "#### Логистическая регрессия"
   ]
  },
  {
   "cell_type": "code",
   "execution_count": 44,
   "metadata": {},
   "outputs": [
    {
     "name": "stdout",
     "output_type": "stream",
     "text": [
      "F1-мера при логистической регресии 0.6054333764553688\n"
     ]
    }
   ],
   "source": [
    "model_lr_v2 = LogisticRegression(random_state = 12345, solver='liblinear')\n",
    "model_lr_v2.fit(features_upsampled, target_upsampled)\n",
    "predictions = model.predict(features_valid)\n",
    "score = f1_score(target_valid, predictions)\n",
    "print('F1-мера при логистической регресии', score)"
   ]
  },
  {
   "cell_type": "code",
   "execution_count": 45,
   "metadata": {
    "scrolled": true
   },
   "outputs": [
    {
     "name": "stdout",
     "output_type": "stream",
     "text": [
      "Площадь ROC-кривой: 0.5017239464975192\n"
     ]
    }
   ],
   "source": [
    "probabilities = model_lr_v2.predict_proba(features)\n",
    "probabilities_one = probabilities[:, 1]\n",
    "print('Площадь ROC-кривой:', roc_auc_score(target, probabilities_one))"
   ]
  },
  {
   "cell_type": "markdown",
   "metadata": {},
   "source": [
    "Показатель достаточно сильно изменился изменился:\n",
    "- стандартная модель: 0.331\n",
    "- взвешивание классов: 0.571\n",
    "- upsampling: 0.605"
   ]
  },
  {
   "cell_type": "markdown",
   "metadata": {},
   "source": [
    "### Downsampling"
   ]
  },
  {
   "cell_type": "code",
   "execution_count": 46,
   "metadata": {},
   "outputs": [],
   "source": [
    "def downsample(features, target, fraction):\n",
    "    features_zeros = features[target == 0]\n",
    "    features_ones = features[target == 1]\n",
    "    target_zeros = target[target == 0]\n",
    "    target_ones = target[target == 1]\n",
    "\n",
    "    features_downsampled = pd.concat(\n",
    "        [features_zeros.sample(frac=fraction, random_state=12345)] + [features_ones])\n",
    "    target_downsampled = pd.concat(\n",
    "        [target_zeros.sample(frac=fraction, random_state=12345)] + [target_ones])\n",
    "    \n",
    "    features_downsampled, target_downsampled = shuffle(\n",
    "        features_downsampled, target_downsampled, random_state=12345)\n",
    "    \n",
    "    return features_downsampled, target_downsampled\n",
    "\n",
    "features_downsampled, target_downsampled = downsample(features_train, target_train, 0.25)"
   ]
  },
  {
   "cell_type": "markdown",
   "metadata": {},
   "source": [
    "#### Решающее дерево"
   ]
  },
  {
   "cell_type": "code",
   "execution_count": 48,
   "metadata": {},
   "outputs": [
    {
     "name": "stdout",
     "output_type": "stream",
     "text": [
      "Показатели лучшей модели: глубина деревьев: 5 f1-мера 0.5943204868154158\n"
     ]
    }
   ],
   "source": [
    "#Для дерева нам необходимо найти максимальную глубину для модели\n",
    "max_depth = 0\n",
    "max_model_tree_v3 = None\n",
    "f1 = 0\n",
    "for depth in range(1, 20):\n",
    "    model = DecisionTreeClassifier(max_depth = depth, random_state = 12345)\n",
    "    model.fit(features_downsampled, target_downsampled)\n",
    "    predictions = model.predict(features_valid)\n",
    "    score = f1_score(target_valid, predictions)\n",
    "    if score>f1:\n",
    "        max_depth = depth\n",
    "        max_model_tree_v3 = model\n",
    "        f1 = score\n",
    "print('Показатели лучшей модели: глубина деревьев:', max_depth, 'f1-мера', f1) "
   ]
  },
  {
   "cell_type": "code",
   "execution_count": 49,
   "metadata": {
    "scrolled": true
   },
   "outputs": [
    {
     "name": "stdout",
     "output_type": "stream",
     "text": [
      "Площадь ROC-кривой: 0.5299779953073342\n"
     ]
    }
   ],
   "source": [
    "probabilities = max_model_tree_v3.predict_proba(features)\n",
    "probabilities_one = probabilities[:, 1]\n",
    "print('Площадь ROC-кривой:', roc_auc_score(target, probabilities_one))"
   ]
  },
  {
   "cell_type": "markdown",
   "metadata": {},
   "source": [
    "При балансировке классов показатель модели снизился: \n",
    "- стандартная модель: 0.569\n",
    "- взвешивание классов: 0.596\n",
    "- upsampling: 0.596\n",
    "- downsample: 0.594"
   ]
  },
  {
   "cell_type": "markdown",
   "metadata": {},
   "source": [
    "#### Случайный лес"
   ]
  },
  {
   "cell_type": "code",
   "execution_count": 51,
   "metadata": {},
   "outputs": [
    {
     "name": "stdout",
     "output_type": "stream",
     "text": [
      "Показатели лучшей модели: число деревьев: 10 глубина деревьев: 4 f1-мера 0.6092184368737475\n"
     ]
    }
   ],
   "source": [
    "max_depth = 0\n",
    "max_estimator = 0\n",
    "f1 = 0\n",
    "max_model_forest_v3 = None\n",
    "for est in range(10, 100, 10):\n",
    "    for depth in range(1, 20):\n",
    "        model = RandomForestClassifier(random_state=12345, n_estimators=est, max_depth=depth)\n",
    "        model.fit(features_downsampled, target_downsampled)\n",
    "        predictions = model.predict(features_valid)\n",
    "        score = f1_score(target_valid, predictions)\n",
    "        if score>f1:\n",
    "            max_depth = depth\n",
    "            max_estimator = est\n",
    "            max_model_forest_v3 = model\n",
    "            f1 = score\n",
    "        #print('Estimators:', est, 'depth:', depth, 'f1:', score)\n",
    "        \n",
    "print('Показатели лучшей модели: число деревьев:', max_estimator, 'глубина деревьев:', max_depth, 'f1-мера', f1)"
   ]
  },
  {
   "cell_type": "code",
   "execution_count": 52,
   "metadata": {},
   "outputs": [
    {
     "name": "stdout",
     "output_type": "stream",
     "text": [
      "Площадь ROC-кривой: 0.40984712616913616\n"
     ]
    }
   ],
   "source": [
    "probabilities = max_model_forest_v2.predict_proba(features)\n",
    "probabilities_one = probabilities[:, 1]\n",
    "print('Площадь ROC-кривой:', roc_auc_score(target, probabilities_one))"
   ]
  },
  {
   "cell_type": "markdown",
   "metadata": {},
   "source": [
    "При балансировке классов показатели модели достаточно изменилась: \n",
    "- стандартная модель: 0.589\n",
    "- взвешивание классов: 0.628\n",
    "- upsampling: 0.629\n",
    "- downsampling: 0.609"
   ]
  },
  {
   "cell_type": "markdown",
   "metadata": {},
   "source": [
    "#### Логистическая регрессия"
   ]
  },
  {
   "cell_type": "code",
   "execution_count": 54,
   "metadata": {},
   "outputs": [
    {
     "name": "stdout",
     "output_type": "stream",
     "text": [
      "F1-мера при логистической регресии 0.5746268656716417\n"
     ]
    }
   ],
   "source": [
    "model_lr_v3 = LogisticRegression(random_state = 12345, solver='liblinear')\n",
    "model_lr_v3.fit(features_upsampled, target_upsampled)\n",
    "predictions = model.predict(features_valid)\n",
    "score = f1_score(target_valid, predictions)\n",
    "print('F1-мера при логистической регресии', score)"
   ]
  },
  {
   "cell_type": "code",
   "execution_count": 55,
   "metadata": {},
   "outputs": [
    {
     "name": "stdout",
     "output_type": "stream",
     "text": [
      "Площадь ROC-кривой: 0.5017239464975192\n"
     ]
    }
   ],
   "source": [
    "probabilities = model_lr_v2.predict_proba(features)\n",
    "probabilities_one = probabilities[:, 1]\n",
    "print('Площадь ROC-кривой:', roc_auc_score(target, probabilities_one))"
   ]
  },
  {
   "cell_type": "markdown",
   "metadata": {},
   "source": [
    "Показатель немного изменился:\n",
    "- стандартная модель: 0.331\n",
    "- взвешивание классов: 0.571\n",
    "- upsampling: 0.605\n",
    "- downsampling: 0.574"
   ]
  },
  {
   "cell_type": "markdown",
   "metadata": {},
   "source": [
    "**Вывод**\n",
    "\n",
    "Мы проверили три техники балансировки классов и лучшие показатели у модели Случайного леса с балансом классов с помощью upwnsampling с показателями: \n",
    "- число деревьев: 70 \n",
    "- глубина деревьев: 9 \n",
    "- f1-мера 0.629"
   ]
  },
  {
   "cell_type": "markdown",
   "metadata": {},
   "source": [
    "## Тестирование модели"
   ]
  },
  {
   "cell_type": "markdown",
   "metadata": {},
   "source": [
    "Лучший показатель F1-меры показал алгоритм случайного леса с балансом классов с помощью upsampling с показателями:\n",
    "- число деревьев: 70\n",
    "- глубина деревьев: 9\n",
    "- f1-мера 0.629"
   ]
  },
  {
   "cell_type": "code",
   "execution_count": 56,
   "metadata": {},
   "outputs": [
    {
     "name": "stdout",
     "output_type": "stream",
     "text": [
      "При числе деревьев 70 и глубине дерева 9 f1-мера достигает значения: 0.6077003121748179\n"
     ]
    }
   ],
   "source": [
    "predictions = max_model_forest_v2.predict(features_test)\n",
    "score = f1_score(target_test, predictions)\n",
    "print('При числе деревьев 70 и глубине дерева 9 f1-мера достигает значения:', score)"
   ]
  },
  {
   "cell_type": "code",
   "execution_count": 57,
   "metadata": {},
   "outputs": [
    {
     "data": {
      "text/plain": [
       "0.8531655550908374"
      ]
     },
     "execution_count": 57,
     "metadata": {},
     "output_type": "execute_result"
    }
   ],
   "source": [
    "probabilities_test = max_model_forest_v2.predict_proba(features_test)\n",
    "probabilities_one_test = probabilities_test[:, 1]\n",
    "\n",
    "auc_roc = roc_auc_score(target_test, probabilities_one_test)\n",
    "auc_roc"
   ]
  },
  {
   "cell_type": "code",
   "execution_count": 58,
   "metadata": {
    "scrolled": false
   },
   "outputs": [
    {
     "data": {
      "image/png": "[encoded data removed]",
      "text/plain": [
       "<Figure size 432x288 with 1 Axes>"
      ]
     },
     "metadata": {
      "needs_background": "light"
     },
     "output_type": "display_data"
    },
    {
     "data": {
      "image/png": "[encoded data removed]",
      "text/plain": [
       "<Figure size 432x288 with 1 Axes>"
      ]
     },
     "metadata": {
      "needs_background": "light"
     },
     "output_type": "display_data"
    }
   ],
   "source": [
    "fpr, tpr, thresholds = roc_curve(target_test, probabilities_one_test)\n",
    "\n",
    "plt.figure()\n",
    "\n",
    "plt.plot([0, 1], [0, 1], linestyle='--')\n",
    "plt.figure()\n",
    "plt.plot(fpr, tpr)\n",
    "plt.xlim([0.0, 1.0])\n",
    "plt.ylim([0.0, 1.0])\n",
    "plt.xlabel('False Positive Rate')\n",
    "plt.ylabel('True Positive Rate')\n",
    "plt.title('ROC-кривая')\n",
    "\n",
    "plt.show()"
   ]
  },
  {
   "cell_type": "markdown",
   "metadata": {},
   "source": [
    "Посмотрим еще и на метрику recall, чтобы узнать какой процент объектов положительного класса верно предсказывает модель."
   ]
  },
  {
   "cell_type": "code",
   "execution_count": 59,
   "metadata": {},
   "outputs": [
    {
     "data": {
      "text/plain": [
       "0.6903073286052009"
      ]
     },
     "execution_count": 59,
     "metadata": {},
     "output_type": "execute_result"
    }
   ],
   "source": [
    "rscore = recall_score(target_test, predictions)\n",
    "rscore"
   ]
  },
  {
   "cell_type": "markdown",
   "metadata": {},
   "source": [
    "**Вывод**\n",
    "\n",
    "Мы рассмотрели модель с лучшими показателями и добились требуемого показателя f1-меры в 0,607. Если рассматривать полноту, то есть процент верно предсказанных положительных ответов, то модель достигает 69%. Можно считать, что модель случайного леса подходит для использования."
   ]
  },
  {
   "cell_type": "markdown",
   "metadata": {},
   "source": [
    "## Выводы"
   ]
  },
  {
   "cell_type": "markdown",
   "metadata": {},
   "source": [
    "Перед нами стояла задача построить такую модель, котороя могла бы спрогнозировать на основании вводных данных уход клиента из банка. Для решения данной задачи мы провели над датасетом небольшую подготовительную работу, чтоб увеличить точность модели:\n",
    "- Мы изучили находящиеся в датасете данные.\n",
    "- Обработили пропуски значений.\n",
    "- Удалили столбцы, которые не имели роли при обучении модели.\n",
    "- Посмотрели баланс классов - соотношение ушедших и оставшихся клиентов.\n",
    "\n",
    "При рассмотрении баланса классов, мы заметили, что данных по клиентам, оставшихся в банке гораздо больше, чем данных об ушедших клиентах, что могло стать помехой для корректного обучения модели. Для оценки качества модели мы использовали F1-меру для трех алгоритмов обучения: \n",
    "- Решающее дерево.\n",
    "- Случайный лес.\n",
    "- Логистическая регерессия.\n",
    "\n",
    "Для сбалансированности классов мы применили три техники(взвешивание классов, Upsamled, Downsample) и получили следующие значения:\n",
    "\n",
    "**Решающее дерево**\n",
    "- стандартная модель: 0.569\n",
    "- взвешивание классов: 0.596\n",
    "- upsampling: 0.596\n",
    "- downsample: 0.594\n",
    "\n",
    "**Случайный лес**\n",
    "- стандартная модель: 0.589\n",
    "- взвешивание классов: 0.628\n",
    "- upsampling: 0.629\n",
    "- downsampling: 0.609\n",
    "\n",
    "**Логистическая регрессия**\n",
    "- стандартная модель: 0.331\n",
    "- взвешивание классов: 0.571\n",
    "- upsampling: 0.605\n",
    "- downsampling: 0.574\n",
    "\n",
    "Наилучший показатель после балансировки имеет алгоритм случайного леса к которому было применена техника upsampling. Так мы получили модель с показателем F1-меры показал алгоритм случайного леса с балансом классов с помощью downsampling с показателями:\n",
    "- число деревьев: 70\n",
    "- глубина деревьев: 9\n",
    "- f1-мера 0.629\n",
    "\n",
    "Модель на тестовой выборке дала значение f1-меры в 0.607, что чуть выше, чем показатель у стандартной модели. Если рассматривать полноту, то есть процент верно предсказанных положительных ответов, то модель достигает 69%. Показатель auc-roc решающего дерева составляет 0.853"
   ]
  }
 ],
 "metadata": {
  "ExecuteTimeLog": [
   {
    "duration": 45,
    "start_time": "2023-03-16T10:14:57.895Z"
   },
   {
    "duration": 68,
    "start_time": "2023-03-16T10:15:51.259Z"
   },
   {
    "duration": 0,
    "start_time": "2023-03-16T10:15:51.329Z"
   },
   {
    "duration": 366,
    "start_time": "2023-03-16T10:16:07.446Z"
   },
   {
    "duration": 107,
    "start_time": "2023-03-16T10:16:07.814Z"
   },
   {
    "duration": 18,
    "start_time": "2023-03-16T10:16:07.922Z"
   },
   {
    "duration": 13,
    "start_time": "2023-03-16T10:18:39.901Z"
   },
   {
    "duration": 96,
    "start_time": "2023-03-16T10:19:27.899Z"
   },
   {
    "duration": 5,
    "start_time": "2023-03-16T10:19:38.037Z"
   },
   {
    "duration": 6,
    "start_time": "2023-03-16T10:20:20.509Z"
   },
   {
    "duration": 35,
    "start_time": "2023-03-16T10:20:26.530Z"
   },
   {
    "duration": 7,
    "start_time": "2023-03-16T10:23:54.517Z"
   },
   {
    "duration": 10,
    "start_time": "2023-03-16T10:24:28.499Z"
   },
   {
    "duration": 460,
    "start_time": "2023-03-16T10:27:52.337Z"
   },
   {
    "duration": 53,
    "start_time": "2023-03-16T10:27:52.809Z"
   },
   {
    "duration": 45,
    "start_time": "2023-03-16T10:27:52.864Z"
   },
   {
    "duration": 21,
    "start_time": "2023-03-16T10:27:52.919Z"
   },
   {
    "duration": 4,
    "start_time": "2023-03-16T10:27:52.942Z"
   },
   {
    "duration": 57,
    "start_time": "2023-03-16T10:27:52.948Z"
   },
   {
    "duration": 19,
    "start_time": "2023-03-16T10:27:53.006Z"
   },
   {
    "duration": 19,
    "start_time": "2023-03-16T10:28:39.715Z"
   },
   {
    "duration": 18,
    "start_time": "2023-03-16T10:29:08.706Z"
   },
   {
    "duration": 449,
    "start_time": "2023-03-16T14:01:52.810Z"
   },
   {
    "duration": 92,
    "start_time": "2023-03-16T14:01:53.262Z"
   },
   {
    "duration": 59,
    "start_time": "2023-03-16T14:01:53.356Z"
   },
   {
    "duration": 27,
    "start_time": "2023-03-16T14:01:53.425Z"
   },
   {
    "duration": 4,
    "start_time": "2023-03-16T14:01:53.457Z"
   },
   {
    "duration": 75,
    "start_time": "2023-03-16T14:01:53.465Z"
   },
   {
    "duration": 24,
    "start_time": "2023-03-16T14:01:53.543Z"
   },
   {
    "duration": 65,
    "start_time": "2023-03-16T14:01:53.569Z"
   },
   {
    "duration": 26,
    "start_time": "2023-03-16T14:01:53.636Z"
   },
   {
    "duration": 435,
    "start_time": "2023-03-16T14:02:17.030Z"
   },
   {
    "duration": 69,
    "start_time": "2023-03-16T14:02:17.467Z"
   },
   {
    "duration": 26,
    "start_time": "2023-03-16T14:02:17.538Z"
   },
   {
    "duration": 33,
    "start_time": "2023-03-16T14:02:17.566Z"
   },
   {
    "duration": 4,
    "start_time": "2023-03-16T14:02:17.609Z"
   },
   {
    "duration": 55,
    "start_time": "2023-03-16T14:02:17.615Z"
   },
   {
    "duration": 12,
    "start_time": "2023-03-16T14:02:17.671Z"
   },
   {
    "duration": 19,
    "start_time": "2023-03-16T14:02:17.702Z"
   },
   {
    "duration": 15,
    "start_time": "2023-03-16T14:02:17.725Z"
   },
   {
    "duration": 13,
    "start_time": "2023-03-16T14:02:55.050Z"
   },
   {
    "duration": 87,
    "start_time": "2023-03-16T14:06:50.415Z"
   },
   {
    "duration": 1555,
    "start_time": "2023-03-16T14:07:22.918Z"
   },
   {
    "duration": 65,
    "start_time": "2023-03-16T14:07:24.476Z"
   },
   {
    "duration": 26,
    "start_time": "2023-03-16T14:07:24.543Z"
   },
   {
    "duration": 62,
    "start_time": "2023-03-16T14:07:24.571Z"
   },
   {
    "duration": 26,
    "start_time": "2023-03-16T14:07:24.636Z"
   },
   {
    "duration": 107,
    "start_time": "2023-03-16T14:07:24.664Z"
   },
   {
    "duration": 49,
    "start_time": "2023-03-16T14:07:24.772Z"
   },
   {
    "duration": 42,
    "start_time": "2023-03-16T14:07:24.823Z"
   },
   {
    "duration": 69,
    "start_time": "2023-03-16T14:07:24.866Z"
   },
   {
    "duration": 172,
    "start_time": "2023-03-16T14:07:24.936Z"
   },
   {
    "duration": 1167,
    "start_time": "2023-03-16T14:08:01.107Z"
   },
   {
    "duration": 53,
    "start_time": "2023-03-16T14:08:02.276Z"
   },
   {
    "duration": 18,
    "start_time": "2023-03-16T14:08:02.331Z"
   },
   {
    "duration": 42,
    "start_time": "2023-03-16T14:08:02.351Z"
   },
   {
    "duration": 160,
    "start_time": "2023-03-16T14:08:02.397Z"
   },
   {
    "duration": 134,
    "start_time": "2023-03-16T14:08:02.559Z"
   },
   {
    "duration": 14,
    "start_time": "2023-03-16T14:08:02.701Z"
   },
   {
    "duration": 30,
    "start_time": "2023-03-16T14:08:02.717Z"
   },
   {
    "duration": 66,
    "start_time": "2023-03-16T14:08:02.748Z"
   },
   {
    "duration": 178,
    "start_time": "2023-03-16T14:08:02.816Z"
   },
   {
    "duration": 876,
    "start_time": "2023-03-16T14:08:10.850Z"
   },
   {
    "duration": 1218,
    "start_time": "2023-03-19T17:43:46.477Z"
   },
   {
    "duration": 179,
    "start_time": "2023-03-19T17:43:47.696Z"
   },
   {
    "duration": 19,
    "start_time": "2023-03-19T17:43:47.876Z"
   },
   {
    "duration": 12,
    "start_time": "2023-03-19T17:43:47.897Z"
   },
   {
    "duration": 10,
    "start_time": "2023-03-19T17:43:47.910Z"
   },
   {
    "duration": 52,
    "start_time": "2023-03-19T17:43:47.922Z"
   },
   {
    "duration": 6,
    "start_time": "2023-03-19T17:43:47.975Z"
   },
   {
    "duration": 15,
    "start_time": "2023-03-19T17:43:47.983Z"
   },
   {
    "duration": 11,
    "start_time": "2023-03-19T17:43:48.000Z"
   },
   {
    "duration": 88,
    "start_time": "2023-03-19T18:06:52.775Z"
   },
   {
    "duration": 5,
    "start_time": "2023-03-19T18:07:05.079Z"
   },
   {
    "duration": 7,
    "start_time": "2023-03-19T18:07:15.717Z"
   },
   {
    "duration": 9,
    "start_time": "2023-03-19T18:14:55.106Z"
   },
   {
    "duration": 1150,
    "start_time": "2023-03-19T18:15:11.900Z"
   },
   {
    "duration": 1099,
    "start_time": "2023-03-19T18:15:21.807Z"
   },
   {
    "duration": 10,
    "start_time": "2023-03-19T18:16:09.095Z"
   },
   {
    "duration": 8,
    "start_time": "2023-03-19T18:18:19.019Z"
   },
   {
    "duration": 7,
    "start_time": "2023-03-19T18:18:41.970Z"
   },
   {
    "duration": 11,
    "start_time": "2023-03-19T18:19:24.338Z"
   },
   {
    "duration": 4,
    "start_time": "2023-03-19T18:20:18.211Z"
   },
   {
    "duration": 5,
    "start_time": "2023-03-19T18:20:18.848Z"
   },
   {
    "duration": 6,
    "start_time": "2023-03-19T18:20:19.606Z"
   },
   {
    "duration": 11,
    "start_time": "2023-03-19T18:21:09.106Z"
   },
   {
    "duration": 993,
    "start_time": "2023-03-19T18:21:21.071Z"
   },
   {
    "duration": 39,
    "start_time": "2023-03-19T18:21:22.066Z"
   },
   {
    "duration": 14,
    "start_time": "2023-03-19T18:21:22.107Z"
   },
   {
    "duration": 14,
    "start_time": "2023-03-19T18:21:22.122Z"
   },
   {
    "duration": 3,
    "start_time": "2023-03-19T18:21:22.137Z"
   },
   {
    "duration": 40,
    "start_time": "2023-03-19T18:21:22.142Z"
   },
   {
    "duration": 5,
    "start_time": "2023-03-19T18:21:22.184Z"
   },
   {
    "duration": 8,
    "start_time": "2023-03-19T18:21:22.190Z"
   },
   {
    "duration": 25,
    "start_time": "2023-03-19T18:21:22.199Z"
   },
   {
    "duration": 9,
    "start_time": "2023-03-19T18:21:22.225Z"
   },
   {
    "duration": 12,
    "start_time": "2023-03-19T18:22:00.339Z"
   },
   {
    "duration": 5,
    "start_time": "2023-03-19T18:26:59.386Z"
   },
   {
    "duration": 83,
    "start_time": "2023-03-19T18:28:04.742Z"
   },
   {
    "duration": 1235,
    "start_time": "2023-03-19T18:28:27.148Z"
   },
   {
    "duration": 38,
    "start_time": "2023-03-19T18:28:28.384Z"
   },
   {
    "duration": 14,
    "start_time": "2023-03-19T18:28:28.423Z"
   },
   {
    "duration": 11,
    "start_time": "2023-03-19T18:28:28.438Z"
   },
   {
    "duration": 3,
    "start_time": "2023-03-19T18:28:28.451Z"
   },
   {
    "duration": 35,
    "start_time": "2023-03-19T18:28:28.456Z"
   },
   {
    "duration": 5,
    "start_time": "2023-03-19T18:28:28.492Z"
   },
   {
    "duration": 30,
    "start_time": "2023-03-19T18:28:28.499Z"
   },
   {
    "duration": 10,
    "start_time": "2023-03-19T18:28:28.531Z"
   },
   {
    "duration": 8,
    "start_time": "2023-03-19T18:28:28.542Z"
   },
   {
    "duration": 11,
    "start_time": "2023-03-19T18:28:28.551Z"
   },
   {
    "duration": 9,
    "start_time": "2023-03-19T18:28:28.563Z"
   },
   {
    "duration": 6,
    "start_time": "2023-03-19T18:28:28.573Z"
   },
   {
    "duration": 4,
    "start_time": "2023-03-19T18:28:41.174Z"
   },
   {
    "duration": 6,
    "start_time": "2023-03-19T18:28:42.186Z"
   },
   {
    "duration": 69,
    "start_time": "2023-03-19T18:28:48.263Z"
   },
   {
    "duration": 6,
    "start_time": "2023-03-19T18:28:58.147Z"
   },
   {
    "duration": 1327,
    "start_time": "2023-03-19T18:31:47.143Z"
   },
   {
    "duration": 69,
    "start_time": "2023-03-19T18:31:48.472Z"
   },
   {
    "duration": 20,
    "start_time": "2023-03-19T18:31:48.543Z"
   },
   {
    "duration": 69,
    "start_time": "2023-03-19T18:31:48.566Z"
   },
   {
    "duration": 4,
    "start_time": "2023-03-19T18:31:48.637Z"
   },
   {
    "duration": 93,
    "start_time": "2023-03-19T18:31:48.642Z"
   },
   {
    "duration": 7,
    "start_time": "2023-03-19T18:31:48.736Z"
   },
   {
    "duration": 9,
    "start_time": "2023-03-19T18:31:48.744Z"
   },
   {
    "duration": 70,
    "start_time": "2023-03-19T18:31:48.755Z"
   },
   {
    "duration": 14,
    "start_time": "2023-03-19T18:31:48.827Z"
   },
   {
    "duration": 13,
    "start_time": "2023-03-19T18:31:48.842Z"
   },
   {
    "duration": 7,
    "start_time": "2023-03-19T18:31:48.857Z"
   },
   {
    "duration": 58,
    "start_time": "2023-03-19T18:31:48.866Z"
   },
   {
    "duration": 89,
    "start_time": "2023-03-19T18:36:22.984Z"
   },
   {
    "duration": 27,
    "start_time": "2023-03-19T18:36:50.355Z"
   },
   {
    "duration": 1267,
    "start_time": "2023-03-19T18:43:29.482Z"
   },
   {
    "duration": 39,
    "start_time": "2023-03-19T18:43:30.751Z"
   },
   {
    "duration": 15,
    "start_time": "2023-03-19T18:43:30.793Z"
   },
   {
    "duration": 29,
    "start_time": "2023-03-19T18:43:30.810Z"
   },
   {
    "duration": 22,
    "start_time": "2023-03-19T18:43:30.841Z"
   },
   {
    "duration": 65,
    "start_time": "2023-03-19T18:43:30.864Z"
   },
   {
    "duration": 6,
    "start_time": "2023-03-19T18:43:30.931Z"
   },
   {
    "duration": 28,
    "start_time": "2023-03-19T18:43:30.938Z"
   },
   {
    "duration": 32,
    "start_time": "2023-03-19T18:43:30.967Z"
   },
   {
    "duration": 26,
    "start_time": "2023-03-19T18:43:31.001Z"
   },
   {
    "duration": 37,
    "start_time": "2023-03-19T18:43:31.028Z"
   },
   {
    "duration": 27,
    "start_time": "2023-03-19T18:43:31.066Z"
   },
   {
    "duration": 19,
    "start_time": "2023-03-19T18:43:31.095Z"
   },
   {
    "duration": 56,
    "start_time": "2023-03-19T18:43:31.115Z"
   },
   {
    "duration": 1284,
    "start_time": "2023-03-19T18:46:07.169Z"
   },
   {
    "duration": 40,
    "start_time": "2023-03-19T18:46:08.455Z"
   },
   {
    "duration": 16,
    "start_time": "2023-03-19T18:46:08.497Z"
   },
   {
    "duration": 14,
    "start_time": "2023-03-19T18:46:08.514Z"
   },
   {
    "duration": 10,
    "start_time": "2023-03-19T18:46:08.530Z"
   },
   {
    "duration": 38,
    "start_time": "2023-03-19T18:46:08.541Z"
   },
   {
    "duration": 6,
    "start_time": "2023-03-19T18:46:08.580Z"
   },
   {
    "duration": 9,
    "start_time": "2023-03-19T18:46:08.587Z"
   },
   {
    "duration": 11,
    "start_time": "2023-03-19T18:46:08.597Z"
   },
   {
    "duration": 32,
    "start_time": "2023-03-19T18:46:08.610Z"
   },
   {
    "duration": 10,
    "start_time": "2023-03-19T18:46:08.644Z"
   },
   {
    "duration": 7,
    "start_time": "2023-03-19T18:46:08.655Z"
   },
   {
    "duration": 8,
    "start_time": "2023-03-19T18:46:08.664Z"
   },
   {
    "duration": 26,
    "start_time": "2023-03-19T18:46:08.674Z"
   },
   {
    "duration": 112,
    "start_time": "2023-03-19T18:49:44.602Z"
   },
   {
    "duration": 26,
    "start_time": "2023-03-19T18:50:04.706Z"
   },
   {
    "duration": 18,
    "start_time": "2023-03-19T18:50:52.038Z"
   },
   {
    "duration": 18,
    "start_time": "2023-03-19T18:51:13.967Z"
   },
   {
    "duration": 17,
    "start_time": "2023-03-19T18:53:12.649Z"
   },
   {
    "duration": 18,
    "start_time": "2023-03-19T18:54:31.010Z"
   },
   {
    "duration": 18,
    "start_time": "2023-03-19T18:55:37.333Z"
   },
   {
    "duration": 1288,
    "start_time": "2023-03-19T18:57:05.842Z"
   },
   {
    "duration": 38,
    "start_time": "2023-03-19T18:57:07.131Z"
   },
   {
    "duration": 14,
    "start_time": "2023-03-19T18:57:07.171Z"
   },
   {
    "duration": 11,
    "start_time": "2023-03-19T18:57:07.187Z"
   },
   {
    "duration": 4,
    "start_time": "2023-03-19T18:57:07.200Z"
   },
   {
    "duration": 37,
    "start_time": "2023-03-19T18:57:07.205Z"
   },
   {
    "duration": 6,
    "start_time": "2023-03-19T18:57:07.244Z"
   },
   {
    "duration": 9,
    "start_time": "2023-03-19T18:57:07.252Z"
   },
   {
    "duration": 11,
    "start_time": "2023-03-19T18:57:07.263Z"
   },
   {
    "duration": 9,
    "start_time": "2023-03-19T18:57:07.276Z"
   },
   {
    "duration": 38,
    "start_time": "2023-03-19T18:57:07.287Z"
   },
   {
    "duration": 8,
    "start_time": "2023-03-19T18:57:07.327Z"
   },
   {
    "duration": 13,
    "start_time": "2023-03-19T18:57:07.336Z"
   },
   {
    "duration": 31,
    "start_time": "2023-03-19T18:57:07.351Z"
   },
   {
    "duration": 124,
    "start_time": "2023-03-19T18:57:07.383Z"
   },
   {
    "duration": 0,
    "start_time": "2023-03-19T18:57:07.509Z"
   },
   {
    "duration": 20,
    "start_time": "2023-03-19T19:01:30.886Z"
   },
   {
    "duration": 1292,
    "start_time": "2023-03-19T19:02:07.059Z"
   },
   {
    "duration": 38,
    "start_time": "2023-03-19T19:02:08.353Z"
   },
   {
    "duration": 15,
    "start_time": "2023-03-19T19:02:08.392Z"
   },
   {
    "duration": 15,
    "start_time": "2023-03-19T19:02:08.409Z"
   },
   {
    "duration": 4,
    "start_time": "2023-03-19T19:02:08.425Z"
   },
   {
    "duration": 52,
    "start_time": "2023-03-19T19:02:08.431Z"
   },
   {
    "duration": 6,
    "start_time": "2023-03-19T19:02:08.485Z"
   },
   {
    "duration": 11,
    "start_time": "2023-03-19T19:02:08.492Z"
   },
   {
    "duration": 29,
    "start_time": "2023-03-19T19:02:08.504Z"
   },
   {
    "duration": 5,
    "start_time": "2023-03-19T19:02:08.534Z"
   },
   {
    "duration": 12,
    "start_time": "2023-03-19T19:02:08.540Z"
   },
   {
    "duration": 11,
    "start_time": "2023-03-19T19:02:08.553Z"
   },
   {
    "duration": 7,
    "start_time": "2023-03-19T19:02:08.566Z"
   },
   {
    "duration": 8,
    "start_time": "2023-03-19T19:02:08.576Z"
   },
   {
    "duration": 44,
    "start_time": "2023-03-19T19:02:08.586Z"
   },
   {
    "duration": 108,
    "start_time": "2023-03-19T19:02:08.631Z"
   },
   {
    "duration": 0,
    "start_time": "2023-03-19T19:02:08.741Z"
   },
   {
    "duration": 19,
    "start_time": "2023-03-19T19:03:49.896Z"
   },
   {
    "duration": 17,
    "start_time": "2023-03-19T19:04:05.014Z"
   },
   {
    "duration": 9,
    "start_time": "2023-03-19T19:04:50.421Z"
   },
   {
    "duration": 1378,
    "start_time": "2023-03-19T19:05:09.707Z"
   },
   {
    "duration": 40,
    "start_time": "2023-03-19T19:05:11.087Z"
   },
   {
    "duration": 17,
    "start_time": "2023-03-19T19:05:11.129Z"
   },
   {
    "duration": 12,
    "start_time": "2023-03-19T19:05:11.147Z"
   },
   {
    "duration": 3,
    "start_time": "2023-03-19T19:05:11.161Z"
   },
   {
    "duration": 63,
    "start_time": "2023-03-19T19:05:11.166Z"
   },
   {
    "duration": 7,
    "start_time": "2023-03-19T19:05:11.231Z"
   },
   {
    "duration": 10,
    "start_time": "2023-03-19T19:05:11.239Z"
   },
   {
    "duration": 11,
    "start_time": "2023-03-19T19:05:11.250Z"
   },
   {
    "duration": 3,
    "start_time": "2023-03-19T19:05:11.262Z"
   },
   {
    "duration": 10,
    "start_time": "2023-03-19T19:05:11.267Z"
   },
   {
    "duration": 47,
    "start_time": "2023-03-19T19:05:11.279Z"
   },
   {
    "duration": 6,
    "start_time": "2023-03-19T19:05:11.327Z"
   },
   {
    "duration": 5,
    "start_time": "2023-03-19T19:05:11.335Z"
   },
   {
    "duration": 26,
    "start_time": "2023-03-19T19:05:11.342Z"
   },
   {
    "duration": 206,
    "start_time": "2023-03-19T19:05:11.370Z"
   },
   {
    "duration": 172,
    "start_time": "2023-03-19T19:05:11.578Z"
   },
   {
    "duration": 67,
    "start_time": "2023-03-20T06:59:44.192Z"
   },
   {
    "duration": 2051,
    "start_time": "2023-03-20T06:59:50.125Z"
   },
   {
    "duration": 243,
    "start_time": "2023-03-20T06:59:52.183Z"
   },
   {
    "duration": 25,
    "start_time": "2023-03-20T06:59:52.427Z"
   },
   {
    "duration": 53,
    "start_time": "2023-03-20T06:59:52.456Z"
   },
   {
    "duration": 5,
    "start_time": "2023-03-20T06:59:52.511Z"
   },
   {
    "duration": 71,
    "start_time": "2023-03-20T06:59:52.518Z"
   },
   {
    "duration": 13,
    "start_time": "2023-03-20T06:59:52.592Z"
   },
   {
    "duration": 10,
    "start_time": "2023-03-20T06:59:52.607Z"
   },
   {
    "duration": 27,
    "start_time": "2023-03-20T06:59:52.619Z"
   },
   {
    "duration": 14,
    "start_time": "2023-03-20T06:59:52.648Z"
   },
   {
    "duration": 9,
    "start_time": "2023-03-20T06:59:52.663Z"
   },
   {
    "duration": 16,
    "start_time": "2023-03-20T06:59:52.674Z"
   },
   {
    "duration": 19,
    "start_time": "2023-03-20T06:59:52.693Z"
   },
   {
    "duration": 5,
    "start_time": "2023-03-20T06:59:52.714Z"
   },
   {
    "duration": 26,
    "start_time": "2023-03-20T06:59:52.721Z"
   },
   {
    "duration": 51,
    "start_time": "2023-03-20T06:59:52.752Z"
   },
   {
    "duration": 211,
    "start_time": "2023-03-20T06:59:52.805Z"
   },
   {
    "duration": 145,
    "start_time": "2023-03-20T07:00:35.092Z"
   },
   {
    "duration": 4,
    "start_time": "2023-03-20T07:00:41.202Z"
   },
   {
    "duration": 224,
    "start_time": "2023-03-20T07:00:42.087Z"
   },
   {
    "duration": 4,
    "start_time": "2023-03-20T07:00:54.311Z"
   },
   {
    "duration": 8,
    "start_time": "2023-03-20T07:01:11.271Z"
   },
   {
    "duration": 295,
    "start_time": "2023-03-20T07:01:59.785Z"
   },
   {
    "duration": 143,
    "start_time": "2023-03-20T07:02:09.879Z"
   },
   {
    "duration": 192,
    "start_time": "2023-03-20T07:02:39.928Z"
   },
   {
    "duration": 118,
    "start_time": "2023-03-20T07:02:58.715Z"
   },
   {
    "duration": 215,
    "start_time": "2023-03-20T07:03:05.165Z"
   },
   {
    "duration": 271,
    "start_time": "2023-03-20T07:03:24.620Z"
   },
   {
    "duration": 1947,
    "start_time": "2023-03-20T07:03:29.821Z"
   },
   {
    "duration": 56,
    "start_time": "2023-03-20T07:03:31.771Z"
   },
   {
    "duration": 26,
    "start_time": "2023-03-20T07:03:31.829Z"
   },
   {
    "duration": 23,
    "start_time": "2023-03-20T07:03:31.858Z"
   },
   {
    "duration": 11,
    "start_time": "2023-03-20T07:03:31.887Z"
   },
   {
    "duration": 109,
    "start_time": "2023-03-20T07:03:31.903Z"
   },
   {
    "duration": 9,
    "start_time": "2023-03-20T07:03:32.013Z"
   },
   {
    "duration": 34,
    "start_time": "2023-03-20T07:03:32.024Z"
   },
   {
    "duration": 22,
    "start_time": "2023-03-20T07:03:32.060Z"
   },
   {
    "duration": 6,
    "start_time": "2023-03-20T07:03:32.085Z"
   },
   {
    "duration": 204,
    "start_time": "2023-03-20T07:03:32.093Z"
   },
   {
    "duration": 12,
    "start_time": "2023-03-20T07:03:32.299Z"
   },
   {
    "duration": 27,
    "start_time": "2023-03-20T07:03:32.313Z"
   },
   {
    "duration": 7,
    "start_time": "2023-03-20T07:03:32.344Z"
   },
   {
    "duration": 30,
    "start_time": "2023-03-20T07:03:32.354Z"
   },
   {
    "duration": 37,
    "start_time": "2023-03-20T07:03:32.391Z"
   },
   {
    "duration": 276,
    "start_time": "2023-03-20T07:03:32.429Z"
   },
   {
    "duration": 12,
    "start_time": "2023-03-20T07:53:25.599Z"
   },
   {
    "duration": 526,
    "start_time": "2023-03-20T08:03:55.637Z"
   },
   {
    "duration": 11,
    "start_time": "2023-03-20T08:06:12.239Z"
   },
   {
    "duration": 154,
    "start_time": "2023-03-20T08:08:01.379Z"
   },
   {
    "duration": 148,
    "start_time": "2023-03-20T08:08:25.801Z"
   },
   {
    "duration": 69,
    "start_time": "2023-03-20T08:09:10.196Z"
   },
   {
    "duration": 222,
    "start_time": "2023-03-20T08:09:18.779Z"
   },
   {
    "duration": 386,
    "start_time": "2023-03-20T08:11:08.769Z"
   },
   {
    "duration": 256,
    "start_time": "2023-03-20T13:11:50.493Z"
   },
   {
    "duration": 702,
    "start_time": "2023-03-20T13:13:24.656Z"
   },
   {
    "duration": 588,
    "start_time": "2023-03-20T13:16:47.407Z"
   },
   {
    "duration": 254,
    "start_time": "2023-03-20T13:17:59.889Z"
   },
   {
    "duration": 298,
    "start_time": "2023-03-20T13:18:14.776Z"
   },
   {
    "duration": 1606,
    "start_time": "2023-03-20T13:19:59.845Z"
   },
   {
    "duration": 52,
    "start_time": "2023-03-20T13:20:01.453Z"
   },
   {
    "duration": 21,
    "start_time": "2023-03-20T13:20:01.507Z"
   },
   {
    "duration": 60,
    "start_time": "2023-03-20T13:20:01.531Z"
   },
   {
    "duration": 34,
    "start_time": "2023-03-20T13:20:01.592Z"
   },
   {
    "duration": 90,
    "start_time": "2023-03-20T13:20:01.628Z"
   },
   {
    "duration": 9,
    "start_time": "2023-03-20T13:20:01.721Z"
   },
   {
    "duration": 60,
    "start_time": "2023-03-20T13:20:01.732Z"
   },
   {
    "duration": 20,
    "start_time": "2023-03-20T13:20:01.793Z"
   },
   {
    "duration": 33,
    "start_time": "2023-03-20T13:20:01.815Z"
   },
   {
    "duration": 210,
    "start_time": "2023-03-20T13:20:01.851Z"
   },
   {
    "duration": 16,
    "start_time": "2023-03-20T13:20:02.063Z"
   },
   {
    "duration": 32,
    "start_time": "2023-03-20T13:20:02.081Z"
   },
   {
    "duration": 40,
    "start_time": "2023-03-20T13:20:02.115Z"
   },
   {
    "duration": 27,
    "start_time": "2023-03-20T13:20:02.161Z"
   },
   {
    "duration": 38,
    "start_time": "2023-03-20T13:20:02.190Z"
   },
   {
    "duration": 217,
    "start_time": "2023-03-20T13:20:02.230Z"
   },
   {
    "duration": 569,
    "start_time": "2023-03-20T13:20:02.450Z"
   },
   {
    "duration": 140,
    "start_time": "2023-03-20T13:20:03.021Z"
   },
   {
    "duration": 250,
    "start_time": "2023-03-20T13:20:03.242Z"
   },
   {
    "duration": 578,
    "start_time": "2023-03-20T13:20:03.494Z"
   },
   {
    "duration": 286,
    "start_time": "2023-03-20T13:20:04.074Z"
   },
   {
    "duration": 104,
    "start_time": "2023-03-20T13:20:28.243Z"
   },
   {
    "duration": 122,
    "start_time": "2023-03-20T17:04:58.024Z"
   },
   {
    "duration": 4,
    "start_time": "2023-03-20T17:05:16.268Z"
   },
   {
    "duration": 18,
    "start_time": "2023-03-20T17:05:23.250Z"
   },
   {
    "duration": 328,
    "start_time": "2023-03-20T17:05:24.637Z"
   },
   {
    "duration": 873,
    "start_time": "2023-03-20T17:09:42.082Z"
   },
   {
    "duration": 53,
    "start_time": "2023-03-20T17:11:41.656Z"
   },
   {
    "duration": 108,
    "start_time": "2023-03-20T17:12:11.945Z"
   },
   {
    "duration": 49,
    "start_time": "2023-03-20T17:12:17.285Z"
   },
   {
    "duration": 11,
    "start_time": "2023-03-20T17:13:08.059Z"
   },
   {
    "duration": 97,
    "start_time": "2023-03-20T17:14:03.710Z"
   },
   {
    "duration": 228,
    "start_time": "2023-03-20T17:14:04.639Z"
   },
   {
    "duration": 23,
    "start_time": "2023-03-20T17:14:05.444Z"
   },
   {
    "duration": 1598,
    "start_time": "2023-03-20T17:19:32.292Z"
   },
   {
    "duration": 155,
    "start_time": "2023-03-20T17:19:33.892Z"
   },
   {
    "duration": 16,
    "start_time": "2023-03-20T17:19:34.049Z"
   },
   {
    "duration": 19,
    "start_time": "2023-03-20T17:19:34.067Z"
   },
   {
    "duration": 4,
    "start_time": "2023-03-20T17:19:34.090Z"
   },
   {
    "duration": 54,
    "start_time": "2023-03-20T17:19:34.096Z"
   },
   {
    "duration": 7,
    "start_time": "2023-03-20T17:19:34.152Z"
   },
   {
    "duration": 30,
    "start_time": "2023-03-20T17:19:34.160Z"
   },
   {
    "duration": 11,
    "start_time": "2023-03-20T17:19:34.192Z"
   },
   {
    "duration": 5,
    "start_time": "2023-03-20T17:19:34.205Z"
   },
   {
    "duration": 134,
    "start_time": "2023-03-20T17:19:34.212Z"
   },
   {
    "duration": 9,
    "start_time": "2023-03-20T17:19:34.348Z"
   },
   {
    "duration": 29,
    "start_time": "2023-03-20T17:19:34.358Z"
   },
   {
    "duration": 7,
    "start_time": "2023-03-20T17:19:34.390Z"
   },
   {
    "duration": 6,
    "start_time": "2023-03-20T17:19:34.399Z"
   },
   {
    "duration": 39,
    "start_time": "2023-03-20T17:19:34.406Z"
   },
   {
    "duration": 186,
    "start_time": "2023-03-20T17:19:34.446Z"
   },
   {
    "duration": 496,
    "start_time": "2023-03-20T17:19:34.634Z"
   },
   {
    "duration": 31,
    "start_time": "2023-03-20T17:19:35.132Z"
   },
   {
    "duration": 365,
    "start_time": "2023-03-20T17:19:35.165Z"
   },
   {
    "duration": 480,
    "start_time": "2023-03-20T17:19:35.532Z"
   },
   {
    "duration": 42,
    "start_time": "2023-03-20T17:19:36.014Z"
   },
   {
    "duration": 95,
    "start_time": "2023-03-20T17:19:36.058Z"
   },
   {
    "duration": 400,
    "start_time": "2023-03-20T17:19:36.155Z"
   },
   {
    "duration": 861,
    "start_time": "2023-03-20T17:19:36.557Z"
   },
   {
    "duration": 58,
    "start_time": "2023-03-20T17:19:37.419Z"
   },
   {
    "duration": 71,
    "start_time": "2023-03-20T17:19:37.478Z"
   },
   {
    "duration": 174,
    "start_time": "2023-03-20T17:19:37.551Z"
   },
   {
    "duration": 229,
    "start_time": "2023-03-20T17:19:37.726Z"
   },
   {
    "duration": 14,
    "start_time": "2023-03-20T17:19:37.957Z"
   },
   {
    "duration": 26,
    "start_time": "2023-03-20T17:48:20.749Z"
   },
   {
    "duration": 33,
    "start_time": "2023-03-20T17:48:51.520Z"
   },
   {
    "duration": 4,
    "start_time": "2023-03-20T17:49:41.034Z"
   },
   {
    "duration": 11,
    "start_time": "2023-03-20T17:50:49.390Z"
   },
   {
    "duration": 10,
    "start_time": "2023-03-20T17:51:01.511Z"
   },
   {
    "duration": 118,
    "start_time": "2023-03-20T17:52:29.517Z"
   },
   {
    "duration": 11,
    "start_time": "2023-03-20T17:53:32.270Z"
   },
   {
    "duration": 4,
    "start_time": "2023-03-20T17:53:51.147Z"
   },
   {
    "duration": 219,
    "start_time": "2023-03-20T17:53:56.248Z"
   },
   {
    "duration": 1540,
    "start_time": "2023-03-20T17:55:55.336Z"
   },
   {
    "duration": 40,
    "start_time": "2023-03-20T17:55:56.878Z"
   },
   {
    "duration": 18,
    "start_time": "2023-03-20T17:55:56.920Z"
   },
   {
    "duration": 19,
    "start_time": "2023-03-20T17:55:56.940Z"
   },
   {
    "duration": 3,
    "start_time": "2023-03-20T17:55:56.962Z"
   },
   {
    "duration": 44,
    "start_time": "2023-03-20T17:55:56.967Z"
   },
   {
    "duration": 9,
    "start_time": "2023-03-20T17:55:57.012Z"
   },
   {
    "duration": 10,
    "start_time": "2023-03-20T17:55:57.040Z"
   },
   {
    "duration": 16,
    "start_time": "2023-03-20T17:55:57.052Z"
   },
   {
    "duration": 15,
    "start_time": "2023-03-20T17:55:57.070Z"
   },
   {
    "duration": 183,
    "start_time": "2023-03-20T17:55:57.086Z"
   },
   {
    "duration": 10,
    "start_time": "2023-03-20T17:55:57.271Z"
   },
   {
    "duration": 11,
    "start_time": "2023-03-20T17:55:57.283Z"
   },
   {
    "duration": 7,
    "start_time": "2023-03-20T17:55:57.298Z"
   },
   {
    "duration": 37,
    "start_time": "2023-03-20T17:55:57.307Z"
   },
   {
    "duration": 28,
    "start_time": "2023-03-20T17:55:57.346Z"
   },
   {
    "duration": 221,
    "start_time": "2023-03-20T17:55:57.376Z"
   },
   {
    "duration": 557,
    "start_time": "2023-03-20T17:55:57.599Z"
   },
   {
    "duration": 87,
    "start_time": "2023-03-20T17:55:58.158Z"
   },
   {
    "duration": 294,
    "start_time": "2023-03-20T17:55:58.248Z"
   },
   {
    "duration": 587,
    "start_time": "2023-03-20T17:55:58.544Z"
   },
   {
    "duration": 30,
    "start_time": "2023-03-20T17:55:59.133Z"
   },
   {
    "duration": 178,
    "start_time": "2023-03-20T17:55:59.166Z"
   },
   {
    "duration": 352,
    "start_time": "2023-03-20T17:55:59.346Z"
   },
   {
    "duration": 837,
    "start_time": "2023-03-20T17:55:59.700Z"
   },
   {
    "duration": 101,
    "start_time": "2023-03-20T17:56:00.541Z"
   },
   {
    "duration": 100,
    "start_time": "2023-03-20T17:56:00.644Z"
   },
   {
    "duration": 100,
    "start_time": "2023-03-20T17:56:00.745Z"
   },
   {
    "duration": 236,
    "start_time": "2023-03-20T17:56:00.847Z"
   },
   {
    "duration": 58,
    "start_time": "2023-03-20T17:56:01.085Z"
   },
   {
    "duration": 127,
    "start_time": "2023-03-20T17:56:01.149Z"
   },
   {
    "duration": 10,
    "start_time": "2023-03-20T17:56:01.277Z"
   },
   {
    "duration": 276,
    "start_time": "2023-03-20T17:56:01.289Z"
   },
   {
    "duration": 97,
    "start_time": "2023-03-20T17:58:47.206Z"
   },
   {
    "duration": 154,
    "start_time": "2023-03-20T17:59:24.750Z"
   },
   {
    "duration": 15,
    "start_time": "2023-03-20T17:59:40.065Z"
   },
   {
    "duration": 208,
    "start_time": "2023-03-20T17:59:51.165Z"
   },
   {
    "duration": 1341,
    "start_time": "2023-03-20T18:01:31.197Z"
   },
   {
    "duration": 44,
    "start_time": "2023-03-20T18:01:32.540Z"
   },
   {
    "duration": 16,
    "start_time": "2023-03-20T18:01:32.586Z"
   },
   {
    "duration": 25,
    "start_time": "2023-03-20T18:01:32.605Z"
   },
   {
    "duration": 12,
    "start_time": "2023-03-20T18:01:32.632Z"
   },
   {
    "duration": 42,
    "start_time": "2023-03-20T18:01:32.645Z"
   },
   {
    "duration": 7,
    "start_time": "2023-03-20T18:01:32.689Z"
   },
   {
    "duration": 21,
    "start_time": "2023-03-20T18:01:32.698Z"
   },
   {
    "duration": 12,
    "start_time": "2023-03-20T18:01:32.721Z"
   },
   {
    "duration": 8,
    "start_time": "2023-03-20T18:01:32.735Z"
   },
   {
    "duration": 130,
    "start_time": "2023-03-20T18:01:32.744Z"
   },
   {
    "duration": 10,
    "start_time": "2023-03-20T18:01:32.875Z"
   },
   {
    "duration": 13,
    "start_time": "2023-03-20T18:01:32.886Z"
   },
   {
    "duration": 6,
    "start_time": "2023-03-20T18:01:32.901Z"
   },
   {
    "duration": 6,
    "start_time": "2023-03-20T18:01:32.909Z"
   },
   {
    "duration": 27,
    "start_time": "2023-03-20T18:01:32.941Z"
   },
   {
    "duration": 198,
    "start_time": "2023-03-20T18:01:32.970Z"
   },
   {
    "duration": 471,
    "start_time": "2023-03-20T18:01:33.170Z"
   },
   {
    "duration": 100,
    "start_time": "2023-03-20T18:01:33.642Z"
   },
   {
    "duration": 276,
    "start_time": "2023-03-20T18:01:33.744Z"
   },
   {
    "duration": 488,
    "start_time": "2023-03-20T18:01:34.021Z"
   },
   {
    "duration": 39,
    "start_time": "2023-03-20T18:01:34.511Z"
   },
   {
    "duration": 190,
    "start_time": "2023-03-20T18:01:34.551Z"
   },
   {
    "duration": 309,
    "start_time": "2023-03-20T18:01:34.743Z"
   },
   {
    "duration": 831,
    "start_time": "2023-03-20T18:01:35.054Z"
   },
   {
    "duration": 63,
    "start_time": "2023-03-20T18:01:35.887Z"
   },
   {
    "duration": 189,
    "start_time": "2023-03-20T18:01:35.952Z"
   },
   {
    "duration": 97,
    "start_time": "2023-03-20T18:01:36.144Z"
   },
   {
    "duration": 216,
    "start_time": "2023-03-20T18:01:36.243Z"
   },
   {
    "duration": 14,
    "start_time": "2023-03-20T18:01:36.461Z"
   },
   {
    "duration": 114,
    "start_time": "2023-03-20T18:01:36.545Z"
   },
   {
    "duration": 8,
    "start_time": "2023-03-20T18:01:36.661Z"
   },
   {
    "duration": 229,
    "start_time": "2023-03-20T18:01:36.670Z"
   },
   {
    "duration": 157,
    "start_time": "2023-03-20T18:01:36.901Z"
   },
   {
    "duration": 14,
    "start_time": "2023-03-20T18:01:37.060Z"
   },
   {
    "duration": 234,
    "start_time": "2023-03-20T18:01:37.075Z"
   },
   {
    "duration": 11,
    "start_time": "2023-03-20T18:02:31.418Z"
   },
   {
    "duration": 1446,
    "start_time": "2023-03-20T18:02:36.743Z"
   },
   {
    "duration": 40,
    "start_time": "2023-03-20T18:02:38.191Z"
   },
   {
    "duration": 18,
    "start_time": "2023-03-20T18:02:38.233Z"
   },
   {
    "duration": 12,
    "start_time": "2023-03-20T18:02:38.253Z"
   },
   {
    "duration": 5,
    "start_time": "2023-03-20T18:02:38.269Z"
   },
   {
    "duration": 66,
    "start_time": "2023-03-20T18:02:38.276Z"
   },
   {
    "duration": 7,
    "start_time": "2023-03-20T18:02:38.343Z"
   },
   {
    "duration": 9,
    "start_time": "2023-03-20T18:02:38.352Z"
   },
   {
    "duration": 14,
    "start_time": "2023-03-20T18:02:38.362Z"
   },
   {
    "duration": 3,
    "start_time": "2023-03-20T18:02:38.378Z"
   },
   {
    "duration": 148,
    "start_time": "2023-03-20T18:02:38.383Z"
   },
   {
    "duration": 14,
    "start_time": "2023-03-20T18:02:38.533Z"
   },
   {
    "duration": 11,
    "start_time": "2023-03-20T18:02:38.550Z"
   },
   {
    "duration": 6,
    "start_time": "2023-03-20T18:02:38.564Z"
   },
   {
    "duration": 7,
    "start_time": "2023-03-20T18:02:38.571Z"
   },
   {
    "duration": 27,
    "start_time": "2023-03-20T18:02:38.579Z"
   },
   {
    "duration": 189,
    "start_time": "2023-03-20T18:02:38.641Z"
   },
   {
    "duration": 542,
    "start_time": "2023-03-20T18:02:38.832Z"
   },
   {
    "duration": 69,
    "start_time": "2023-03-20T18:02:39.375Z"
   },
   {
    "duration": 287,
    "start_time": "2023-03-20T18:02:39.446Z"
   },
   {
    "duration": 473,
    "start_time": "2023-03-20T18:02:39.735Z"
   },
   {
    "duration": 40,
    "start_time": "2023-03-20T18:02:40.210Z"
   },
   {
    "duration": 194,
    "start_time": "2023-03-20T18:02:40.252Z"
   },
   {
    "duration": 358,
    "start_time": "2023-03-20T18:02:40.448Z"
   },
   {
    "duration": 852,
    "start_time": "2023-03-20T18:02:40.808Z"
   },
   {
    "duration": 81,
    "start_time": "2023-03-20T18:02:41.662Z"
   },
   {
    "duration": 105,
    "start_time": "2023-03-20T18:02:41.744Z"
   },
   {
    "duration": 109,
    "start_time": "2023-03-20T18:02:41.851Z"
   },
   {
    "duration": 231,
    "start_time": "2023-03-20T18:02:41.962Z"
   },
   {
    "duration": 52,
    "start_time": "2023-03-20T18:02:42.195Z"
   },
   {
    "duration": 113,
    "start_time": "2023-03-20T18:02:42.249Z"
   },
   {
    "duration": 9,
    "start_time": "2023-03-20T18:02:42.364Z"
   },
   {
    "duration": 243,
    "start_time": "2023-03-20T18:02:42.375Z"
   },
   {
    "duration": 169,
    "start_time": "2023-03-20T18:02:42.619Z"
   },
   {
    "duration": 15,
    "start_time": "2023-03-20T18:02:42.790Z"
   },
   {
    "duration": 245,
    "start_time": "2023-03-20T18:02:42.806Z"
   },
   {
    "duration": 1411,
    "start_time": "2023-03-20T18:03:17.540Z"
   },
   {
    "duration": 41,
    "start_time": "2023-03-20T18:03:18.953Z"
   },
   {
    "duration": 16,
    "start_time": "2023-03-20T18:03:18.996Z"
   },
   {
    "duration": 13,
    "start_time": "2023-03-20T18:03:19.014Z"
   },
   {
    "duration": 4,
    "start_time": "2023-03-20T18:03:19.029Z"
   },
   {
    "duration": 40,
    "start_time": "2023-03-20T18:03:19.034Z"
   },
   {
    "duration": 8,
    "start_time": "2023-03-20T18:03:19.075Z"
   },
   {
    "duration": 21,
    "start_time": "2023-03-20T18:03:19.085Z"
   },
   {
    "duration": 12,
    "start_time": "2023-03-20T18:03:19.107Z"
   },
   {
    "duration": 16,
    "start_time": "2023-03-20T18:03:19.120Z"
   },
   {
    "duration": 132,
    "start_time": "2023-03-20T18:03:19.138Z"
   },
   {
    "duration": 9,
    "start_time": "2023-03-20T18:03:19.272Z"
   },
   {
    "duration": 11,
    "start_time": "2023-03-20T18:03:19.283Z"
   },
   {
    "duration": 12,
    "start_time": "2023-03-20T18:03:19.297Z"
   },
   {
    "duration": 7,
    "start_time": "2023-03-20T18:03:19.311Z"
   },
   {
    "duration": 44,
    "start_time": "2023-03-20T18:03:19.320Z"
   },
   {
    "duration": 211,
    "start_time": "2023-03-20T18:03:19.366Z"
   },
   {
    "duration": 497,
    "start_time": "2023-03-20T18:03:19.579Z"
   },
   {
    "duration": 65,
    "start_time": "2023-03-20T18:03:20.078Z"
   },
   {
    "duration": 284,
    "start_time": "2023-03-20T18:03:20.146Z"
   },
   {
    "duration": 468,
    "start_time": "2023-03-20T18:03:20.431Z"
   },
   {
    "duration": 41,
    "start_time": "2023-03-20T18:03:20.901Z"
   },
   {
    "duration": 113,
    "start_time": "2023-03-20T18:03:20.943Z"
   },
   {
    "duration": 376,
    "start_time": "2023-03-20T18:03:21.058Z"
   },
   {
    "duration": 871,
    "start_time": "2023-03-20T18:03:21.441Z"
   },
   {
    "duration": 51,
    "start_time": "2023-03-20T18:03:22.314Z"
   },
   {
    "duration": 174,
    "start_time": "2023-03-20T18:03:22.367Z"
   },
   {
    "duration": 114,
    "start_time": "2023-03-20T18:03:22.543Z"
   },
   {
    "duration": 210,
    "start_time": "2023-03-20T18:03:22.659Z"
   },
   {
    "duration": 71,
    "start_time": "2023-03-20T18:03:22.871Z"
   },
   {
    "duration": 115,
    "start_time": "2023-03-20T18:03:22.944Z"
   },
   {
    "duration": 8,
    "start_time": "2023-03-20T18:03:23.062Z"
   },
   {
    "duration": 232,
    "start_time": "2023-03-20T18:03:23.072Z"
   },
   {
    "duration": 174,
    "start_time": "2023-03-20T18:03:23.306Z"
   },
   {
    "duration": 14,
    "start_time": "2023-03-20T18:03:23.482Z"
   },
   {
    "duration": 231,
    "start_time": "2023-03-20T18:03:23.498Z"
   },
   {
    "duration": 1608,
    "start_time": "2023-03-21T09:13:59.479Z"
   },
   {
    "duration": 49,
    "start_time": "2023-03-21T09:14:01.089Z"
   },
   {
    "duration": 17,
    "start_time": "2023-03-21T09:14:01.140Z"
   },
   {
    "duration": 20,
    "start_time": "2023-03-21T09:14:01.159Z"
   },
   {
    "duration": 33,
    "start_time": "2023-03-21T09:14:01.182Z"
   },
   {
    "duration": 110,
    "start_time": "2023-03-21T09:14:01.217Z"
   },
   {
    "duration": 8,
    "start_time": "2023-03-21T09:14:01.328Z"
   },
   {
    "duration": 80,
    "start_time": "2023-03-21T09:14:01.338Z"
   },
   {
    "duration": 42,
    "start_time": "2023-03-21T09:14:01.419Z"
   },
   {
    "duration": 47,
    "start_time": "2023-03-21T09:14:01.463Z"
   },
   {
    "duration": 210,
    "start_time": "2023-03-21T09:14:01.511Z"
   },
   {
    "duration": 9,
    "start_time": "2023-03-21T09:14:01.723Z"
   },
   {
    "duration": 47,
    "start_time": "2023-03-21T09:14:01.734Z"
   },
   {
    "duration": 37,
    "start_time": "2023-03-21T09:14:01.785Z"
   },
   {
    "duration": 30,
    "start_time": "2023-03-21T09:14:01.823Z"
   },
   {
    "duration": 63,
    "start_time": "2023-03-21T09:14:01.855Z"
   },
   {
    "duration": 245,
    "start_time": "2023-03-21T09:14:01.919Z"
   },
   {
    "duration": 580,
    "start_time": "2023-03-21T09:14:02.165Z"
   },
   {
    "duration": 155,
    "start_time": "2023-03-21T09:14:02.746Z"
   },
   {
    "duration": 272,
    "start_time": "2023-03-21T09:14:02.907Z"
   },
   {
    "duration": 532,
    "start_time": "2023-03-21T09:14:03.180Z"
   },
   {
    "duration": 97,
    "start_time": "2023-03-21T09:14:03.715Z"
   },
   {
    "duration": 94,
    "start_time": "2023-03-21T09:14:03.813Z"
   },
   {
    "duration": 450,
    "start_time": "2023-03-21T09:14:03.908Z"
   },
   {
    "duration": 967,
    "start_time": "2023-03-21T09:14:04.360Z"
   },
   {
    "duration": 76,
    "start_time": "2023-03-21T09:14:05.329Z"
   },
   {
    "duration": 94,
    "start_time": "2023-03-21T09:14:05.407Z"
   },
   {
    "duration": 132,
    "start_time": "2023-03-21T09:14:05.503Z"
   },
   {
    "duration": 262,
    "start_time": "2023-03-21T09:14:05.637Z"
   },
   {
    "duration": 23,
    "start_time": "2023-03-21T09:14:05.901Z"
   },
   {
    "duration": 202,
    "start_time": "2023-03-21T09:14:05.925Z"
   },
   {
    "duration": 10,
    "start_time": "2023-03-21T09:14:06.130Z"
   },
   {
    "duration": 243,
    "start_time": "2023-03-21T09:14:06.143Z"
   },
   {
    "duration": 184,
    "start_time": "2023-03-21T09:14:06.397Z"
   },
   {
    "duration": 32,
    "start_time": "2023-03-21T09:14:06.583Z"
   },
   {
    "duration": 240,
    "start_time": "2023-03-21T09:14:06.617Z"
   },
   {
    "duration": 96,
    "start_time": "2023-03-21T13:33:34.135Z"
   },
   {
    "duration": 1965,
    "start_time": "2023-03-21T13:35:16.189Z"
   },
   {
    "duration": 134,
    "start_time": "2023-03-21T13:36:09.826Z"
   },
   {
    "duration": 1646,
    "start_time": "2023-03-21T13:36:15.181Z"
   },
   {
    "duration": 103,
    "start_time": "2023-03-21T13:36:16.830Z"
   },
   {
    "duration": 30,
    "start_time": "2023-03-21T13:36:16.935Z"
   },
   {
    "duration": 21,
    "start_time": "2023-03-21T13:36:16.966Z"
   },
   {
    "duration": 6,
    "start_time": "2023-03-21T13:36:16.991Z"
   },
   {
    "duration": 66,
    "start_time": "2023-03-21T13:36:16.999Z"
   },
   {
    "duration": 55,
    "start_time": "2023-03-21T13:36:17.067Z"
   },
   {
    "duration": 21,
    "start_time": "2023-03-21T13:36:17.123Z"
   },
   {
    "duration": 10,
    "start_time": "2023-03-21T13:36:17.160Z"
   },
   {
    "duration": 23,
    "start_time": "2023-03-21T13:36:17.172Z"
   },
   {
    "duration": 5,
    "start_time": "2023-03-21T13:36:17.198Z"
   },
   {
    "duration": 181,
    "start_time": "2023-03-21T13:36:17.206Z"
   },
   {
    "duration": 11,
    "start_time": "2023-03-21T13:36:17.389Z"
   },
   {
    "duration": 12,
    "start_time": "2023-03-21T13:36:17.403Z"
   },
   {
    "duration": 28,
    "start_time": "2023-03-21T13:36:17.417Z"
   },
   {
    "duration": 25,
    "start_time": "2023-03-21T13:36:17.447Z"
   },
   {
    "duration": 39,
    "start_time": "2023-03-21T13:36:17.474Z"
   },
   {
    "duration": 215,
    "start_time": "2023-03-21T13:36:17.516Z"
   },
   {
    "duration": 552,
    "start_time": "2023-03-21T13:36:17.733Z"
   },
   {
    "duration": 58,
    "start_time": "2023-03-21T13:36:18.290Z"
   },
   {
    "duration": 335,
    "start_time": "2023-03-21T13:36:18.350Z"
   },
   {
    "duration": 584,
    "start_time": "2023-03-21T13:36:18.687Z"
   },
   {
    "duration": 69,
    "start_time": "2023-03-21T13:36:19.274Z"
   },
   {
    "duration": 102,
    "start_time": "2023-03-21T13:36:19.346Z"
   },
   {
    "duration": 382,
    "start_time": "2023-03-21T13:36:19.456Z"
   },
   {
    "duration": 942,
    "start_time": "2023-03-21T13:36:19.841Z"
   },
   {
    "duration": 73,
    "start_time": "2023-03-21T13:36:20.785Z"
   },
   {
    "duration": 95,
    "start_time": "2023-03-21T13:36:20.867Z"
   },
   {
    "duration": 234,
    "start_time": "2023-03-21T13:36:20.964Z"
   },
   {
    "duration": 278,
    "start_time": "2023-03-21T13:36:21.201Z"
   },
   {
    "duration": 18,
    "start_time": "2023-03-21T13:36:21.481Z"
   },
   {
    "duration": 111,
    "start_time": "2023-03-21T13:36:21.542Z"
   },
   {
    "duration": 11,
    "start_time": "2023-03-21T13:36:21.660Z"
   },
   {
    "duration": 284,
    "start_time": "2023-03-21T13:36:21.673Z"
   },
   {
    "duration": 193,
    "start_time": "2023-03-21T13:36:21.963Z"
   },
   {
    "duration": 20,
    "start_time": "2023-03-21T13:36:22.158Z"
   },
   {
    "duration": 301,
    "start_time": "2023-03-21T13:36:22.180Z"
   },
   {
    "duration": 13,
    "start_time": "2023-03-21T13:37:10.608Z"
   },
   {
    "duration": 130,
    "start_time": "2023-03-21T13:55:58.386Z"
   },
   {
    "duration": 14,
    "start_time": "2023-03-21T14:00:56.055Z"
   },
   {
    "duration": 4,
    "start_time": "2023-03-21T14:01:12.940Z"
   },
   {
    "duration": 4,
    "start_time": "2023-03-21T14:01:41.043Z"
   },
   {
    "duration": 5,
    "start_time": "2023-03-21T14:01:41.623Z"
   },
   {
    "duration": 5,
    "start_time": "2023-03-21T14:01:42.191Z"
   },
   {
    "duration": 71,
    "start_time": "2023-03-21T14:04:20.436Z"
   },
   {
    "duration": 1574,
    "start_time": "2023-03-21T14:06:46.484Z"
   },
   {
    "duration": 45,
    "start_time": "2023-03-21T14:06:48.061Z"
   },
   {
    "duration": 20,
    "start_time": "2023-03-21T14:06:48.107Z"
   },
   {
    "duration": 27,
    "start_time": "2023-03-21T14:06:48.129Z"
   },
   {
    "duration": 5,
    "start_time": "2023-03-21T14:06:48.160Z"
   },
   {
    "duration": 20,
    "start_time": "2023-03-21T14:06:48.167Z"
   },
   {
    "duration": 58,
    "start_time": "2023-03-21T14:06:48.189Z"
   },
   {
    "duration": 9,
    "start_time": "2023-03-21T14:06:48.249Z"
   },
   {
    "duration": 13,
    "start_time": "2023-03-21T14:06:48.259Z"
   },
   {
    "duration": 14,
    "start_time": "2023-03-21T14:06:48.274Z"
   },
   {
    "duration": 10,
    "start_time": "2023-03-21T14:06:48.290Z"
   },
   {
    "duration": 181,
    "start_time": "2023-03-21T14:06:48.303Z"
   },
   {
    "duration": 4,
    "start_time": "2023-03-21T14:06:48.486Z"
   },
   {
    "duration": 10,
    "start_time": "2023-03-21T14:06:48.494Z"
   },
   {
    "duration": 136,
    "start_time": "2023-03-21T14:06:48.505Z"
   },
   {
    "duration": 0,
    "start_time": "2023-03-21T14:06:48.643Z"
   },
   {
    "duration": 0,
    "start_time": "2023-03-21T14:06:48.645Z"
   },
   {
    "duration": 0,
    "start_time": "2023-03-21T14:06:48.647Z"
   },
   {
    "duration": 0,
    "start_time": "2023-03-21T14:06:48.649Z"
   },
   {
    "duration": 1,
    "start_time": "2023-03-21T14:06:48.650Z"
   },
   {
    "duration": 0,
    "start_time": "2023-03-21T14:06:48.653Z"
   },
   {
    "duration": 0,
    "start_time": "2023-03-21T14:06:48.654Z"
   },
   {
    "duration": 0,
    "start_time": "2023-03-21T14:06:48.656Z"
   },
   {
    "duration": 0,
    "start_time": "2023-03-21T14:06:48.658Z"
   },
   {
    "duration": 0,
    "start_time": "2023-03-21T14:06:48.659Z"
   },
   {
    "duration": 0,
    "start_time": "2023-03-21T14:06:48.661Z"
   },
   {
    "duration": 0,
    "start_time": "2023-03-21T14:06:48.663Z"
   },
   {
    "duration": 0,
    "start_time": "2023-03-21T14:06:48.664Z"
   },
   {
    "duration": 0,
    "start_time": "2023-03-21T14:06:48.667Z"
   },
   {
    "duration": 1,
    "start_time": "2023-03-21T14:06:48.668Z"
   },
   {
    "duration": 0,
    "start_time": "2023-03-21T14:06:48.670Z"
   },
   {
    "duration": 0,
    "start_time": "2023-03-21T14:06:48.671Z"
   },
   {
    "duration": 0,
    "start_time": "2023-03-21T14:06:48.673Z"
   },
   {
    "duration": 0,
    "start_time": "2023-03-21T14:06:48.675Z"
   },
   {
    "duration": 0,
    "start_time": "2023-03-21T14:06:48.677Z"
   },
   {
    "duration": 0,
    "start_time": "2023-03-21T14:06:48.678Z"
   },
   {
    "duration": 0,
    "start_time": "2023-03-21T14:06:48.680Z"
   },
   {
    "duration": 0,
    "start_time": "2023-03-21T14:06:48.682Z"
   },
   {
    "duration": 0,
    "start_time": "2023-03-21T14:06:48.742Z"
   },
   {
    "duration": 0,
    "start_time": "2023-03-21T14:06:48.745Z"
   },
   {
    "duration": 0,
    "start_time": "2023-03-21T14:06:48.747Z"
   },
   {
    "duration": 13,
    "start_time": "2023-03-21T14:07:40.630Z"
   },
   {
    "duration": 12,
    "start_time": "2023-03-21T14:07:47.152Z"
   },
   {
    "duration": 16,
    "start_time": "2023-03-21T14:08:03.989Z"
   },
   {
    "duration": 8,
    "start_time": "2023-03-21T14:08:14.144Z"
   },
   {
    "duration": 14,
    "start_time": "2023-03-21T14:08:20.170Z"
   },
   {
    "duration": 6,
    "start_time": "2023-03-21T14:08:21.546Z"
   },
   {
    "duration": 11,
    "start_time": "2023-03-21T14:08:22.760Z"
   },
   {
    "duration": 5,
    "start_time": "2023-03-21T14:08:23.645Z"
   },
   {
    "duration": 4,
    "start_time": "2023-03-21T14:08:25.656Z"
   },
   {
    "duration": 6,
    "start_time": "2023-03-21T14:08:26.272Z"
   },
   {
    "duration": 4,
    "start_time": "2023-03-21T14:08:26.849Z"
   },
   {
    "duration": 31,
    "start_time": "2023-03-21T14:08:34.963Z"
   },
   {
    "duration": 38,
    "start_time": "2023-03-21T14:10:14.987Z"
   },
   {
    "duration": 31,
    "start_time": "2023-03-21T14:10:34.431Z"
   },
   {
    "duration": 6,
    "start_time": "2023-03-21T14:11:54.143Z"
   },
   {
    "duration": 32,
    "start_time": "2023-03-21T14:11:59.027Z"
   },
   {
    "duration": 201,
    "start_time": "2023-03-21T14:12:39.223Z"
   },
   {
    "duration": 1631,
    "start_time": "2023-03-21T14:14:10.835Z"
   },
   {
    "duration": 46,
    "start_time": "2023-03-21T14:14:12.469Z"
   },
   {
    "duration": 19,
    "start_time": "2023-03-21T14:14:12.517Z"
   },
   {
    "duration": 15,
    "start_time": "2023-03-21T14:14:12.538Z"
   },
   {
    "duration": 4,
    "start_time": "2023-03-21T14:14:12.555Z"
   },
   {
    "duration": 9,
    "start_time": "2023-03-21T14:14:12.561Z"
   },
   {
    "duration": 71,
    "start_time": "2023-03-21T14:14:12.571Z"
   },
   {
    "duration": 9,
    "start_time": "2023-03-21T14:14:12.645Z"
   },
   {
    "duration": 17,
    "start_time": "2023-03-21T14:14:12.655Z"
   },
   {
    "duration": 14,
    "start_time": "2023-03-21T14:14:12.674Z"
   },
   {
    "duration": 5,
    "start_time": "2023-03-21T14:14:12.690Z"
   },
   {
    "duration": 199,
    "start_time": "2023-03-21T14:14:12.697Z"
   },
   {
    "duration": 13,
    "start_time": "2023-03-21T14:14:12.898Z"
   },
   {
    "duration": 38,
    "start_time": "2023-03-21T14:14:12.915Z"
   },
   {
    "duration": 14,
    "start_time": "2023-03-21T14:14:12.956Z"
   },
   {
    "duration": 31,
    "start_time": "2023-03-21T14:14:12.973Z"
   },
   {
    "duration": 10,
    "start_time": "2023-03-21T14:14:13.007Z"
   },
   {
    "duration": 14,
    "start_time": "2023-03-21T14:14:13.019Z"
   },
   {
    "duration": 20,
    "start_time": "2023-03-21T14:14:13.035Z"
   },
   {
    "duration": 33,
    "start_time": "2023-03-21T14:14:13.057Z"
   },
   {
    "duration": 34,
    "start_time": "2023-03-21T14:14:13.092Z"
   },
   {
    "duration": 190,
    "start_time": "2023-03-21T14:14:13.128Z"
   },
   {
    "duration": 449,
    "start_time": "2023-03-21T14:14:13.320Z"
   },
   {
    "duration": 90614,
    "start_time": "2023-03-21T14:14:13.772Z"
   },
   {
    "duration": 65,
    "start_time": "2023-03-21T14:15:44.388Z"
   },
   {
    "duration": 266,
    "start_time": "2023-03-21T14:15:44.456Z"
   },
   {
    "duration": 440,
    "start_time": "2023-03-21T14:15:44.723Z"
   },
   {
    "duration": 23,
    "start_time": "2023-03-21T14:15:45.165Z"
   },
   {
    "duration": 17,
    "start_time": "2023-03-21T14:15:45.243Z"
   },
   {
    "duration": 261,
    "start_time": "2023-03-21T14:15:45.342Z"
   },
   {
    "duration": 838,
    "start_time": "2023-03-21T14:15:45.605Z"
   },
   {
    "duration": 97,
    "start_time": "2023-03-21T14:15:46.445Z"
   },
   {
    "duration": 97,
    "start_time": "2023-03-21T14:15:46.544Z"
   },
   {
    "duration": 145,
    "start_time": "2023-03-21T14:15:46.643Z"
   },
   {
    "duration": 243,
    "start_time": "2023-03-21T14:15:46.790Z"
   },
   {
    "duration": 106,
    "start_time": "2023-03-21T14:15:47.042Z"
   },
   {
    "duration": 119,
    "start_time": "2023-03-21T14:15:47.150Z"
   },
   {
    "duration": 16,
    "start_time": "2023-03-21T14:15:47.272Z"
   },
   {
    "duration": 289,
    "start_time": "2023-03-21T14:15:47.291Z"
   },
   {
    "duration": 155,
    "start_time": "2023-03-21T14:15:47.582Z"
   },
   {
    "duration": 15,
    "start_time": "2023-03-21T14:15:47.744Z"
   },
   {
    "duration": 278,
    "start_time": "2023-03-21T14:15:47.761Z"
   },
   {
    "duration": 1649,
    "start_time": "2023-03-21T14:16:01.010Z"
   },
   {
    "duration": 44,
    "start_time": "2023-03-21T14:16:02.661Z"
   },
   {
    "duration": 24,
    "start_time": "2023-03-21T14:16:02.711Z"
   },
   {
    "duration": 51,
    "start_time": "2023-03-21T14:16:02.737Z"
   },
   {
    "duration": 29,
    "start_time": "2023-03-21T14:16:02.790Z"
   },
   {
    "duration": 23,
    "start_time": "2023-03-21T14:16:02.821Z"
   },
   {
    "duration": 101,
    "start_time": "2023-03-21T14:16:02.846Z"
   },
   {
    "duration": 8,
    "start_time": "2023-03-21T14:16:02.949Z"
   },
   {
    "duration": 20,
    "start_time": "2023-03-21T14:16:02.961Z"
   },
   {
    "duration": 64,
    "start_time": "2023-03-21T14:16:02.983Z"
   },
   {
    "duration": 66,
    "start_time": "2023-03-21T14:16:03.049Z"
   },
   {
    "duration": 235,
    "start_time": "2023-03-21T14:16:03.117Z"
   },
   {
    "duration": 12,
    "start_time": "2023-03-21T14:16:03.354Z"
   },
   {
    "duration": 17,
    "start_time": "2023-03-21T14:16:03.368Z"
   },
   {
    "duration": 16,
    "start_time": "2023-03-21T14:16:03.387Z"
   },
   {
    "duration": 13,
    "start_time": "2023-03-21T14:16:03.405Z"
   },
   {
    "duration": 6,
    "start_time": "2023-03-21T14:16:03.421Z"
   },
   {
    "duration": 17,
    "start_time": "2023-03-21T14:16:03.430Z"
   },
   {
    "duration": 12,
    "start_time": "2023-03-21T14:16:03.450Z"
   },
   {
    "duration": 10,
    "start_time": "2023-03-21T14:16:03.464Z"
   },
   {
    "duration": 65,
    "start_time": "2023-03-21T14:16:03.476Z"
   },
   {
    "duration": 232,
    "start_time": "2023-03-21T14:16:03.543Z"
   },
   {
    "duration": 91290,
    "start_time": "2023-03-21T14:16:03.777Z"
   },
   {
    "duration": 193,
    "start_time": "2023-03-21T14:17:35.070Z"
   },
   {
    "duration": 0,
    "start_time": "2023-03-21T14:17:35.266Z"
   },
   {
    "duration": 0,
    "start_time": "2023-03-21T14:17:35.268Z"
   },
   {
    "duration": 0,
    "start_time": "2023-03-21T14:17:35.270Z"
   },
   {
    "duration": 0,
    "start_time": "2023-03-21T14:17:35.271Z"
   },
   {
    "duration": 0,
    "start_time": "2023-03-21T14:17:35.272Z"
   },
   {
    "duration": 0,
    "start_time": "2023-03-21T14:17:35.274Z"
   },
   {
    "duration": 0,
    "start_time": "2023-03-21T14:17:35.275Z"
   },
   {
    "duration": 0,
    "start_time": "2023-03-21T14:17:35.276Z"
   },
   {
    "duration": 0,
    "start_time": "2023-03-21T14:17:35.278Z"
   },
   {
    "duration": 0,
    "start_time": "2023-03-21T14:17:35.280Z"
   },
   {
    "duration": 0,
    "start_time": "2023-03-21T14:17:35.281Z"
   },
   {
    "duration": 0,
    "start_time": "2023-03-21T14:17:35.283Z"
   },
   {
    "duration": 0,
    "start_time": "2023-03-21T14:17:35.284Z"
   },
   {
    "duration": 0,
    "start_time": "2023-03-21T14:17:35.286Z"
   },
   {
    "duration": 0,
    "start_time": "2023-03-21T14:17:35.287Z"
   },
   {
    "duration": 0,
    "start_time": "2023-03-21T14:17:35.288Z"
   },
   {
    "duration": 0,
    "start_time": "2023-03-21T14:17:35.290Z"
   },
   {
    "duration": 0,
    "start_time": "2023-03-21T14:17:35.292Z"
   },
   {
    "duration": 89619,
    "start_time": "2023-03-21T14:23:26.079Z"
   },
   {
    "duration": 102004,
    "start_time": "2023-03-21T14:50:13.228Z"
   },
   {
    "duration": 104614,
    "start_time": "2023-03-21T15:06:23.539Z"
   },
   {
    "duration": 101557,
    "start_time": "2023-03-21T15:24:48.431Z"
   },
   {
    "duration": 101173,
    "start_time": "2023-03-21T15:29:27.135Z"
   },
   {
    "duration": 86,
    "start_time": "2023-03-21T15:41:11.960Z"
   },
   {
    "duration": 14,
    "start_time": "2023-03-21T15:41:13.594Z"
   },
   {
    "duration": 113,
    "start_time": "2023-03-21T15:41:53.309Z"
   },
   {
    "duration": 7,
    "start_time": "2023-03-21T15:43:33.540Z"
   },
   {
    "duration": 59,
    "start_time": "2023-03-21T15:43:46.783Z"
   },
   {
    "duration": 203,
    "start_time": "2023-03-21T15:43:52.586Z"
   },
   {
    "duration": 12,
    "start_time": "2023-03-21T15:44:21.058Z"
   },
   {
    "duration": 74,
    "start_time": "2023-03-21T15:45:13.378Z"
   },
   {
    "duration": 1582,
    "start_time": "2023-03-21T15:45:30.774Z"
   },
   {
    "duration": 44,
    "start_time": "2023-03-21T15:45:32.360Z"
   },
   {
    "duration": 25,
    "start_time": "2023-03-21T15:45:32.406Z"
   },
   {
    "duration": 25,
    "start_time": "2023-03-21T15:45:32.434Z"
   },
   {
    "duration": 11,
    "start_time": "2023-03-21T15:45:32.461Z"
   },
   {
    "duration": 23,
    "start_time": "2023-03-21T15:45:32.474Z"
   },
   {
    "duration": 93,
    "start_time": "2023-03-21T15:45:32.499Z"
   },
   {
    "duration": 11,
    "start_time": "2023-03-21T15:45:32.594Z"
   },
   {
    "duration": 13,
    "start_time": "2023-03-21T15:45:32.607Z"
   },
   {
    "duration": 40,
    "start_time": "2023-03-21T15:45:32.624Z"
   },
   {
    "duration": 15,
    "start_time": "2023-03-21T15:45:32.666Z"
   },
   {
    "duration": 182,
    "start_time": "2023-03-21T15:45:32.683Z"
   },
   {
    "duration": 11,
    "start_time": "2023-03-21T15:45:32.867Z"
   },
   {
    "duration": 49,
    "start_time": "2023-03-21T15:45:32.880Z"
   },
   {
    "duration": 54,
    "start_time": "2023-03-21T15:45:32.931Z"
   },
   {
    "duration": 23,
    "start_time": "2023-03-21T15:45:32.987Z"
   },
   {
    "duration": 10,
    "start_time": "2023-03-21T15:45:33.012Z"
   },
   {
    "duration": 19,
    "start_time": "2023-03-21T15:45:33.025Z"
   },
   {
    "duration": 39,
    "start_time": "2023-03-21T15:45:33.047Z"
   },
   {
    "duration": 24,
    "start_time": "2023-03-21T15:45:33.089Z"
   },
   {
    "duration": 51,
    "start_time": "2023-03-21T15:45:33.115Z"
   },
   {
    "duration": 191,
    "start_time": "2023-03-21T15:45:33.169Z"
   },
   {
    "duration": 12,
    "start_time": "2023-03-21T15:45:33.363Z"
   },
   {
    "duration": 102125,
    "start_time": "2023-03-21T15:45:33.377Z"
   },
   {
    "duration": 106,
    "start_time": "2023-03-21T15:47:15.503Z"
   },
   {
    "duration": 43,
    "start_time": "2023-03-21T15:47:15.611Z"
   },
   {
    "duration": 298,
    "start_time": "2023-03-21T15:47:15.667Z"
   },
   {
    "duration": 183,
    "start_time": "2023-03-21T15:47:15.973Z"
   },
   {
    "duration": 0,
    "start_time": "2023-03-21T15:47:16.160Z"
   },
   {
    "duration": 0,
    "start_time": "2023-03-21T15:47:16.163Z"
   },
   {
    "duration": 0,
    "start_time": "2023-03-21T15:47:16.165Z"
   },
   {
    "duration": 0,
    "start_time": "2023-03-21T15:47:16.166Z"
   },
   {
    "duration": 0,
    "start_time": "2023-03-21T15:47:16.167Z"
   },
   {
    "duration": 0,
    "start_time": "2023-03-21T15:47:16.168Z"
   },
   {
    "duration": 0,
    "start_time": "2023-03-21T15:47:16.170Z"
   },
   {
    "duration": 0,
    "start_time": "2023-03-21T15:47:16.172Z"
   },
   {
    "duration": 0,
    "start_time": "2023-03-21T15:47:16.173Z"
   },
   {
    "duration": 0,
    "start_time": "2023-03-21T15:47:16.175Z"
   },
   {
    "duration": 0,
    "start_time": "2023-03-21T15:47:16.176Z"
   },
   {
    "duration": 0,
    "start_time": "2023-03-21T15:47:16.177Z"
   },
   {
    "duration": 0,
    "start_time": "2023-03-21T15:47:16.179Z"
   },
   {
    "duration": 0,
    "start_time": "2023-03-21T15:47:16.181Z"
   },
   {
    "duration": 0,
    "start_time": "2023-03-21T15:47:16.182Z"
   },
   {
    "duration": 0,
    "start_time": "2023-03-21T15:47:16.184Z"
   },
   {
    "duration": 0,
    "start_time": "2023-03-21T15:47:16.186Z"
   },
   {
    "duration": 19,
    "start_time": "2023-03-21T15:51:30.598Z"
   },
   {
    "duration": 19,
    "start_time": "2023-03-21T15:51:33.017Z"
   },
   {
    "duration": 57,
    "start_time": "2023-03-21T15:52:10.171Z"
   },
   {
    "duration": 187,
    "start_time": "2023-03-21T15:53:50.709Z"
   },
   {
    "duration": 481,
    "start_time": "2023-03-21T15:54:10.710Z"
   },
   {
    "duration": 15,
    "start_time": "2023-03-21T15:58:23.829Z"
   },
   {
    "duration": 48807,
    "start_time": "2023-03-21T15:58:29.358Z"
   },
   {
    "duration": 93,
    "start_time": "2023-03-21T15:59:30.886Z"
   },
   {
    "duration": 70,
    "start_time": "2023-03-21T16:00:37.948Z"
   },
   {
    "duration": 25,
    "start_time": "2023-03-21T16:01:09.430Z"
   },
   {
    "duration": 12,
    "start_time": "2023-03-21T16:01:57.020Z"
   },
   {
    "duration": 10794,
    "start_time": "2023-03-21T16:02:51.795Z"
   },
   {
    "duration": 2285,
    "start_time": "2023-03-21T16:03:48.794Z"
   },
   {
    "duration": 23,
    "start_time": "2023-03-21T16:04:19.296Z"
   },
   {
    "duration": 5,
    "start_time": "2023-03-21T16:04:54.961Z"
   },
   {
    "duration": 2443,
    "start_time": "2023-03-21T16:05:04.634Z"
   },
   {
    "duration": 20,
    "start_time": "2023-03-21T16:05:31.682Z"
   },
   {
    "duration": 5,
    "start_time": "2023-03-21T16:06:01.739Z"
   },
   {
    "duration": 176,
    "start_time": "2023-03-21T16:06:26.583Z"
   },
   {
    "duration": 11,
    "start_time": "2023-03-21T16:07:25.129Z"
   },
   {
    "duration": 21,
    "start_time": "2023-03-21T16:07:34.023Z"
   },
   {
    "duration": 14,
    "start_time": "2023-03-21T16:07:54.752Z"
   },
   {
    "duration": 579,
    "start_time": "2023-03-21T16:10:11.915Z"
   },
   {
    "duration": 3,
    "start_time": "2023-03-21T16:11:46.639Z"
   },
   {
    "duration": 66558,
    "start_time": "2023-03-21T16:12:33.522Z"
   },
   {
    "duration": 918,
    "start_time": "2023-03-21T16:21:38.265Z"
   },
   {
    "duration": 12,
    "start_time": "2023-03-21T16:22:15.892Z"
   },
   {
    "duration": 12,
    "start_time": "2023-03-21T16:22:51.666Z"
   },
   {
    "duration": 69,
    "start_time": "2023-03-21T16:23:03.074Z"
   },
   {
    "duration": 12,
    "start_time": "2023-03-21T16:23:22.300Z"
   },
   {
    "duration": 873,
    "start_time": "2023-03-21T16:23:31.688Z"
   },
   {
    "duration": 17,
    "start_time": "2023-03-21T16:23:33.347Z"
   },
   {
    "duration": 950,
    "start_time": "2023-03-21T16:24:01.749Z"
   },
   {
    "duration": 15,
    "start_time": "2023-03-21T16:24:04.487Z"
   },
   {
    "duration": 17,
    "start_time": "2023-03-21T16:24:17.487Z"
   },
   {
    "duration": 23,
    "start_time": "2023-03-21T16:24:55.836Z"
   },
   {
    "duration": 1422,
    "start_time": "2023-03-21T16:25:15.583Z"
   },
   {
    "duration": 45,
    "start_time": "2023-03-21T16:25:17.007Z"
   },
   {
    "duration": 19,
    "start_time": "2023-03-21T16:25:17.054Z"
   },
   {
    "duration": 15,
    "start_time": "2023-03-21T16:25:17.076Z"
   },
   {
    "duration": 4,
    "start_time": "2023-03-21T16:25:17.093Z"
   },
   {
    "duration": 7,
    "start_time": "2023-03-21T16:25:17.098Z"
   },
   {
    "duration": 92,
    "start_time": "2023-03-21T16:25:17.107Z"
   },
   {
    "duration": 11,
    "start_time": "2023-03-21T16:25:17.201Z"
   },
   {
    "duration": 41,
    "start_time": "2023-03-21T16:25:17.214Z"
   },
   {
    "duration": 18,
    "start_time": "2023-03-21T16:25:17.259Z"
   },
   {
    "duration": 6,
    "start_time": "2023-03-21T16:25:17.279Z"
   },
   {
    "duration": 208,
    "start_time": "2023-03-21T16:25:17.287Z"
   },
   {
    "duration": 16,
    "start_time": "2023-03-21T16:25:17.498Z"
   },
   {
    "duration": 35,
    "start_time": "2023-03-21T16:25:17.517Z"
   },
   {
    "duration": 7,
    "start_time": "2023-03-21T16:25:17.554Z"
   },
   {
    "duration": 13,
    "start_time": "2023-03-21T16:25:17.564Z"
   },
   {
    "duration": 5,
    "start_time": "2023-03-21T16:25:17.580Z"
   },
   {
    "duration": 11,
    "start_time": "2023-03-21T16:25:17.588Z"
   },
   {
    "duration": 43,
    "start_time": "2023-03-21T16:25:17.601Z"
   },
   {
    "duration": 6,
    "start_time": "2023-03-21T16:25:17.646Z"
   },
   {
    "duration": 45,
    "start_time": "2023-03-21T16:25:17.654Z"
   },
   {
    "duration": 211,
    "start_time": "2023-03-21T16:25:17.701Z"
   },
   {
    "duration": 26,
    "start_time": "2023-03-21T16:25:17.915Z"
   },
   {
    "duration": 103987,
    "start_time": "2023-03-21T16:25:17.944Z"
   },
   {
    "duration": 94,
    "start_time": "2023-03-21T16:27:01.933Z"
   },
   {
    "duration": 41,
    "start_time": "2023-03-21T16:27:02.030Z"
   },
   {
    "duration": 118,
    "start_time": "2023-03-21T16:27:02.140Z"
   },
   {
    "duration": 649,
    "start_time": "2023-03-21T16:27:02.347Z"
   },
   {
    "duration": 16,
    "start_time": "2023-03-21T16:27:02.998Z"
   },
   {
    "duration": 3,
    "start_time": "2023-03-21T16:27:03.017Z"
   },
   {
    "duration": 55184,
    "start_time": "2023-03-21T16:27:03.040Z"
   },
   {
    "duration": 97,
    "start_time": "2023-03-21T16:27:58.228Z"
   },
   {
    "duration": 75,
    "start_time": "2023-03-21T16:27:58.327Z"
   },
   {
    "duration": 41,
    "start_time": "2023-03-21T16:27:58.403Z"
   },
   {
    "duration": 104,
    "start_time": "2023-03-21T16:27:58.446Z"
   },
   {
    "duration": 3,
    "start_time": "2023-03-21T16:27:58.552Z"
   },
   {
    "duration": 631,
    "start_time": "2023-03-21T16:27:58.557Z"
   },
   {
    "duration": 14,
    "start_time": "2023-03-21T16:27:59.190Z"
   },
   {
    "duration": 8,
    "start_time": "2023-03-21T16:27:59.206Z"
   },
   {
    "duration": 72761,
    "start_time": "2023-03-21T16:27:59.216Z"
   },
   {
    "duration": 104,
    "start_time": "2023-03-21T16:29:11.979Z"
   },
   {
    "duration": 3,
    "start_time": "2023-03-21T16:29:12.085Z"
   },
   {
    "duration": 1046,
    "start_time": "2023-03-21T16:29:12.090Z"
   },
   {
    "duration": 128,
    "start_time": "2023-03-21T16:29:13.141Z"
   },
   {
    "duration": 0,
    "start_time": "2023-03-21T16:29:13.270Z"
   },
   {
    "duration": 0,
    "start_time": "2023-03-21T16:29:13.271Z"
   },
   {
    "duration": 0,
    "start_time": "2023-03-21T16:29:13.273Z"
   },
   {
    "duration": 0,
    "start_time": "2023-03-21T16:29:13.274Z"
   },
   {
    "duration": 0,
    "start_time": "2023-03-21T16:29:13.275Z"
   },
   {
    "duration": 0,
    "start_time": "2023-03-21T16:29:13.276Z"
   },
   {
    "duration": 0,
    "start_time": "2023-03-21T16:29:13.277Z"
   },
   {
    "duration": 0,
    "start_time": "2023-03-21T16:29:13.278Z"
   },
   {
    "duration": 0,
    "start_time": "2023-03-21T16:29:13.279Z"
   },
   {
    "duration": 0,
    "start_time": "2023-03-21T16:29:13.280Z"
   },
   {
    "duration": 0,
    "start_time": "2023-03-21T16:29:13.281Z"
   },
   {
    "duration": 76,
    "start_time": "2023-03-21T16:30:52.748Z"
   },
   {
    "duration": 26,
    "start_time": "2023-03-21T16:30:53.733Z"
   },
   {
    "duration": 19,
    "start_time": "2023-03-21T16:32:01.297Z"
   },
   {
    "duration": 1369,
    "start_time": "2023-03-21T16:33:06.186Z"
   },
   {
    "duration": 46,
    "start_time": "2023-03-21T16:33:07.557Z"
   },
   {
    "duration": 21,
    "start_time": "2023-03-21T16:33:07.605Z"
   },
   {
    "duration": 16,
    "start_time": "2023-03-21T16:33:07.628Z"
   },
   {
    "duration": 5,
    "start_time": "2023-03-21T16:33:07.647Z"
   },
   {
    "duration": 7,
    "start_time": "2023-03-21T16:33:07.654Z"
   },
   {
    "duration": 94,
    "start_time": "2023-03-21T16:33:07.663Z"
   },
   {
    "duration": 9,
    "start_time": "2023-03-21T16:33:07.759Z"
   },
   {
    "duration": 30,
    "start_time": "2023-03-21T16:33:07.769Z"
   },
   {
    "duration": 27,
    "start_time": "2023-03-21T16:33:07.802Z"
   },
   {
    "duration": 5,
    "start_time": "2023-03-21T16:33:07.830Z"
   },
   {
    "duration": 153,
    "start_time": "2023-03-21T16:33:07.837Z"
   },
   {
    "duration": 11,
    "start_time": "2023-03-21T16:33:07.992Z"
   },
   {
    "duration": 12,
    "start_time": "2023-03-21T16:33:08.006Z"
   },
   {
    "duration": 25,
    "start_time": "2023-03-21T16:33:08.019Z"
   },
   {
    "duration": 10,
    "start_time": "2023-03-21T16:33:08.046Z"
   },
   {
    "duration": 8,
    "start_time": "2023-03-21T16:33:08.057Z"
   },
   {
    "duration": 14,
    "start_time": "2023-03-21T16:33:08.067Z"
   },
   {
    "duration": 13,
    "start_time": "2023-03-21T16:33:08.083Z"
   },
   {
    "duration": 9,
    "start_time": "2023-03-21T16:33:08.098Z"
   },
   {
    "duration": 59,
    "start_time": "2023-03-21T16:33:08.109Z"
   },
   {
    "duration": 181,
    "start_time": "2023-03-21T16:33:08.170Z"
   },
   {
    "duration": 17,
    "start_time": "2023-03-21T16:33:08.353Z"
   },
   {
    "duration": 102146,
    "start_time": "2023-03-21T16:33:08.373Z"
   },
   {
    "duration": 111,
    "start_time": "2023-03-21T16:34:50.521Z"
   },
   {
    "duration": 23,
    "start_time": "2023-03-21T16:34:50.634Z"
   },
   {
    "duration": 92,
    "start_time": "2023-03-21T16:34:50.659Z"
   },
   {
    "duration": 603,
    "start_time": "2023-03-21T16:34:50.844Z"
   },
   {
    "duration": 12,
    "start_time": "2023-03-21T16:34:51.449Z"
   },
   {
    "duration": 20,
    "start_time": "2023-03-21T16:34:51.463Z"
   },
   {
    "duration": 53180,
    "start_time": "2023-03-21T16:34:51.485Z"
   },
   {
    "duration": 93,
    "start_time": "2023-03-21T16:35:44.667Z"
   },
   {
    "duration": 66,
    "start_time": "2023-03-21T16:35:44.762Z"
   },
   {
    "duration": 101,
    "start_time": "2023-03-21T16:35:44.841Z"
   },
   {
    "duration": 106,
    "start_time": "2023-03-21T16:35:44.944Z"
   },
   {
    "duration": 28,
    "start_time": "2023-03-21T16:35:45.052Z"
   },
   {
    "duration": 584,
    "start_time": "2023-03-21T16:35:45.083Z"
   },
   {
    "duration": 11,
    "start_time": "2023-03-21T16:35:45.668Z"
   },
   {
    "duration": 14,
    "start_time": "2023-03-21T16:35:45.682Z"
   },
   {
    "duration": 71717,
    "start_time": "2023-03-21T16:35:45.698Z"
   },
   {
    "duration": 78,
    "start_time": "2023-03-21T16:36:57.417Z"
   },
   {
    "duration": 3,
    "start_time": "2023-03-21T16:36:57.497Z"
   },
   {
    "duration": 96,
    "start_time": "2023-03-21T16:36:57.502Z"
   },
   {
    "duration": 42,
    "start_time": "2023-03-21T16:36:57.600Z"
   },
   {
    "duration": 136,
    "start_time": "2023-03-21T16:36:57.644Z"
   },
   {
    "duration": 121,
    "start_time": "2023-03-21T16:36:57.782Z"
   },
   {
    "duration": 348,
    "start_time": "2023-03-21T16:36:57.904Z"
   },
   {
    "duration": 87,
    "start_time": "2023-03-21T16:36:58.254Z"
   },
   {
    "duration": 123,
    "start_time": "2023-03-21T16:36:58.344Z"
   },
   {
    "duration": 9,
    "start_time": "2023-03-21T16:36:58.469Z"
   },
   {
    "duration": 261,
    "start_time": "2023-03-21T16:36:58.480Z"
   },
   {
    "duration": 124,
    "start_time": "2023-03-21T16:36:58.743Z"
   },
   {
    "duration": 17,
    "start_time": "2023-03-21T16:36:58.869Z"
   },
   {
    "duration": 256,
    "start_time": "2023-03-21T16:36:58.887Z"
   },
   {
    "duration": 262,
    "start_time": "2023-03-21T18:43:42.709Z"
   },
   {
    "duration": 10,
    "start_time": "2023-03-21T18:43:47.465Z"
   },
   {
    "duration": 67513,
    "start_time": "2023-03-21T18:45:34.932Z"
   },
   {
    "duration": 66,
    "start_time": "2023-03-21T18:47:03.483Z"
   },
   {
    "duration": 38281,
    "start_time": "2023-03-21T18:48:25.994Z"
   },
   {
    "duration": 3,
    "start_time": "2023-03-21T18:49:45.988Z"
   },
   {
    "duration": 73,
    "start_time": "2023-03-21T18:49:47.046Z"
   },
   {
    "duration": 15,
    "start_time": "2023-03-21T18:49:48.155Z"
   },
   {
    "duration": 37,
    "start_time": "2023-03-21T18:53:02.014Z"
   },
   {
    "duration": 49,
    "start_time": "2023-03-21T18:53:10.918Z"
   },
   {
    "duration": 232,
    "start_time": "2023-03-21T18:53:14.718Z"
   },
   {
    "duration": 1369,
    "start_time": "2023-03-21T18:53:28.540Z"
   },
   {
    "duration": 43,
    "start_time": "2023-03-21T18:53:29.911Z"
   },
   {
    "duration": 20,
    "start_time": "2023-03-21T18:53:29.956Z"
   },
   {
    "duration": 20,
    "start_time": "2023-03-21T18:53:29.979Z"
   },
   {
    "duration": 4,
    "start_time": "2023-03-21T18:53:30.002Z"
   },
   {
    "duration": 36,
    "start_time": "2023-03-21T18:53:30.008Z"
   },
   {
    "duration": 87,
    "start_time": "2023-03-21T18:53:30.048Z"
   },
   {
    "duration": 8,
    "start_time": "2023-03-21T18:53:30.137Z"
   },
   {
    "duration": 23,
    "start_time": "2023-03-21T18:53:30.147Z"
   },
   {
    "duration": 35,
    "start_time": "2023-03-21T18:53:30.172Z"
   },
   {
    "duration": 26,
    "start_time": "2023-03-21T18:53:30.209Z"
   },
   {
    "duration": 154,
    "start_time": "2023-03-21T18:53:30.237Z"
   },
   {
    "duration": 11,
    "start_time": "2023-03-21T18:53:30.393Z"
   },
   {
    "duration": 28,
    "start_time": "2023-03-21T18:53:30.408Z"
   },
   {
    "duration": 35,
    "start_time": "2023-03-21T18:53:30.438Z"
   },
   {
    "duration": 39,
    "start_time": "2023-03-21T18:53:30.475Z"
   },
   {
    "duration": 44,
    "start_time": "2023-03-21T18:53:30.516Z"
   },
   {
    "duration": 34,
    "start_time": "2023-03-21T18:53:30.561Z"
   },
   {
    "duration": 20,
    "start_time": "2023-03-21T18:53:30.597Z"
   },
   {
    "duration": 53,
    "start_time": "2023-03-21T18:53:30.620Z"
   },
   {
    "duration": 85,
    "start_time": "2023-03-21T18:53:30.676Z"
   },
   {
    "duration": 182,
    "start_time": "2023-03-21T18:53:30.764Z"
   },
   {
    "duration": 14,
    "start_time": "2023-03-21T18:53:30.948Z"
   },
   {
    "duration": 103933,
    "start_time": "2023-03-21T18:53:30.964Z"
   },
   {
    "duration": 102,
    "start_time": "2023-03-21T18:55:14.899Z"
   },
   {
    "duration": 41,
    "start_time": "2023-03-21T18:55:15.003Z"
   },
   {
    "duration": 105,
    "start_time": "2023-03-21T18:55:15.047Z"
   },
   {
    "duration": 662,
    "start_time": "2023-03-21T18:55:15.154Z"
   },
   {
    "duration": 12,
    "start_time": "2023-03-21T18:55:15.819Z"
   },
   {
    "duration": 3,
    "start_time": "2023-03-21T18:55:15.842Z"
   },
   {
    "duration": 53091,
    "start_time": "2023-03-21T18:55:15.846Z"
   },
   {
    "duration": 88,
    "start_time": "2023-03-21T18:56:08.941Z"
   },
   {
    "duration": 70,
    "start_time": "2023-03-21T18:56:09.042Z"
   },
   {
    "duration": 37,
    "start_time": "2023-03-21T18:56:09.115Z"
   },
   {
    "duration": 114,
    "start_time": "2023-03-21T18:56:09.154Z"
   },
   {
    "duration": 17,
    "start_time": "2023-03-21T18:56:09.271Z"
   },
   {
    "duration": 585,
    "start_time": "2023-03-21T18:56:09.290Z"
   },
   {
    "duration": 10,
    "start_time": "2023-03-21T18:56:09.877Z"
   },
   {
    "duration": 10,
    "start_time": "2023-03-21T18:56:09.889Z"
   },
   {
    "duration": 72386,
    "start_time": "2023-03-21T18:56:09.900Z"
   },
   {
    "duration": 104,
    "start_time": "2023-03-21T18:57:22.291Z"
   },
   {
    "duration": 4,
    "start_time": "2023-03-21T18:57:22.397Z"
   },
   {
    "duration": 109,
    "start_time": "2023-03-21T18:57:22.403Z"
   },
   {
    "duration": 49,
    "start_time": "2023-03-21T18:57:22.514Z"
   },
   {
    "duration": 92,
    "start_time": "2023-03-21T18:57:22.566Z"
   },
   {
    "duration": 21,
    "start_time": "2023-03-21T18:57:22.661Z"
   },
   {
    "duration": 342,
    "start_time": "2023-03-21T18:57:22.685Z"
   },
   {
    "duration": 19,
    "start_time": "2023-03-21T18:57:23.030Z"
   },
   {
    "duration": 7,
    "start_time": "2023-03-21T18:57:23.052Z"
   },
   {
    "duration": 35310,
    "start_time": "2023-03-21T18:57:23.061Z"
   },
   {
    "duration": 89,
    "start_time": "2023-03-21T18:57:58.373Z"
   },
   {
    "duration": 3,
    "start_time": "2023-03-21T18:57:58.464Z"
   },
   {
    "duration": 84,
    "start_time": "2023-03-21T18:57:58.469Z"
   },
   {
    "duration": 13,
    "start_time": "2023-03-21T18:57:58.555Z"
   },
   {
    "duration": 177,
    "start_time": "2023-03-21T18:57:58.570Z"
   },
   {
    "duration": 67,
    "start_time": "2023-03-21T18:57:58.749Z"
   },
   {
    "duration": 273,
    "start_time": "2023-03-21T18:57:58.819Z"
   },
   {
    "duration": 3,
    "start_time": "2023-03-21T19:04:53.228Z"
   },
   {
    "duration": 51,
    "start_time": "2023-03-21T19:10:20.274Z"
   },
   {
    "duration": 71,
    "start_time": "2023-03-21T19:10:23.884Z"
   },
   {
    "duration": 304,
    "start_time": "2023-03-21T19:10:28.366Z"
   },
   {
    "duration": 41,
    "start_time": "2023-03-21T19:24:01.650Z"
   },
   {
    "duration": 6,
    "start_time": "2023-03-21T19:26:06.718Z"
   },
   {
    "duration": 132,
    "start_time": "2023-03-21T19:27:20.183Z"
   },
   {
    "duration": 20,
    "start_time": "2023-03-21T19:27:25.383Z"
   },
   {
    "duration": 7,
    "start_time": "2023-03-21T19:28:01.359Z"
   },
   {
    "duration": 9,
    "start_time": "2023-03-21T19:28:09.238Z"
   },
   {
    "duration": 1340,
    "start_time": "2023-03-21T19:34:28.991Z"
   },
   {
    "duration": 52,
    "start_time": "2023-03-21T19:34:30.333Z"
   },
   {
    "duration": 18,
    "start_time": "2023-03-21T19:34:30.387Z"
   },
   {
    "duration": 95,
    "start_time": "2023-03-21T19:34:30.408Z"
   },
   {
    "duration": 64,
    "start_time": "2023-03-21T19:34:30.506Z"
   },
   {
    "duration": 15,
    "start_time": "2023-03-21T19:34:30.572Z"
   },
   {
    "duration": 102,
    "start_time": "2023-03-21T19:34:30.590Z"
   },
   {
    "duration": 9,
    "start_time": "2023-03-21T19:34:30.694Z"
   },
   {
    "duration": 40,
    "start_time": "2023-03-21T19:34:30.704Z"
   },
   {
    "duration": 35,
    "start_time": "2023-03-21T19:34:30.747Z"
   },
   {
    "duration": 30,
    "start_time": "2023-03-21T19:34:30.785Z"
   },
   {
    "duration": 195,
    "start_time": "2023-03-21T19:34:30.818Z"
   },
   {
    "duration": 14,
    "start_time": "2023-03-21T19:34:31.015Z"
   },
   {
    "duration": 43,
    "start_time": "2023-03-21T19:34:31.031Z"
   },
   {
    "duration": 30,
    "start_time": "2023-03-21T19:34:31.076Z"
   },
   {
    "duration": 50,
    "start_time": "2023-03-21T19:34:31.108Z"
   },
   {
    "duration": 22,
    "start_time": "2023-03-21T19:34:31.160Z"
   },
   {
    "duration": 19,
    "start_time": "2023-03-21T19:34:31.183Z"
   },
   {
    "duration": 32,
    "start_time": "2023-03-21T19:34:31.204Z"
   },
   {
    "duration": 23,
    "start_time": "2023-03-21T19:34:31.238Z"
   },
   {
    "duration": 37,
    "start_time": "2023-03-21T19:34:31.263Z"
   },
   {
    "duration": 165,
    "start_time": "2023-03-21T19:34:31.305Z"
   },
   {
    "duration": 11,
    "start_time": "2023-03-21T19:34:31.472Z"
   },
   {
    "duration": 66,
    "start_time": "2023-03-21T19:34:31.485Z"
   },
   {
    "duration": 100364,
    "start_time": "2023-03-21T19:34:31.553Z"
   },
   {
    "duration": 96,
    "start_time": "2023-03-21T19:36:11.919Z"
   },
   {
    "duration": 124,
    "start_time": "2023-03-21T19:36:12.018Z"
   },
   {
    "duration": 107,
    "start_time": "2023-03-21T19:36:12.150Z"
   },
   {
    "duration": 560,
    "start_time": "2023-03-21T19:36:12.341Z"
   },
   {
    "duration": 10,
    "start_time": "2023-03-21T19:36:12.903Z"
   },
   {
    "duration": 12,
    "start_time": "2023-03-21T19:36:12.915Z"
   },
   {
    "duration": 53591,
    "start_time": "2023-03-21T19:36:12.928Z"
   },
   {
    "duration": 102,
    "start_time": "2023-03-21T19:37:06.521Z"
   },
   {
    "duration": 89,
    "start_time": "2023-03-21T19:37:06.625Z"
   },
   {
    "duration": 28,
    "start_time": "2023-03-21T19:37:06.717Z"
   },
   {
    "duration": 111,
    "start_time": "2023-03-21T19:37:06.747Z"
   },
   {
    "duration": 13,
    "start_time": "2023-03-21T19:37:06.860Z"
   },
   {
    "duration": 654,
    "start_time": "2023-03-21T19:37:06.875Z"
   },
   {
    "duration": 20,
    "start_time": "2023-03-21T19:37:07.531Z"
   },
   {
    "duration": 5,
    "start_time": "2023-03-21T19:37:07.553Z"
   },
   {
    "duration": 70726,
    "start_time": "2023-03-21T19:37:07.559Z"
   },
   {
    "duration": 79,
    "start_time": "2023-03-21T19:38:18.287Z"
   },
   {
    "duration": 2,
    "start_time": "2023-03-21T19:38:18.368Z"
   },
   {
    "duration": 99,
    "start_time": "2023-03-21T19:38:18.372Z"
   },
   {
    "duration": 75,
    "start_time": "2023-03-21T19:38:18.473Z"
   },
   {
    "duration": 111,
    "start_time": "2023-03-21T19:38:18.551Z"
   },
   {
    "duration": 11,
    "start_time": "2023-03-21T19:38:18.665Z"
   },
   {
    "duration": 424,
    "start_time": "2023-03-21T19:38:18.681Z"
   },
   {
    "duration": 14,
    "start_time": "2023-03-21T19:38:19.107Z"
   },
   {
    "duration": 58,
    "start_time": "2023-03-21T19:38:19.123Z"
   },
   {
    "duration": 38791,
    "start_time": "2023-03-21T19:38:19.183Z"
   },
   {
    "duration": 108,
    "start_time": "2023-03-21T19:38:57.976Z"
   },
   {
    "duration": 12,
    "start_time": "2023-03-21T19:38:58.089Z"
   },
   {
    "duration": 144,
    "start_time": "2023-03-21T19:38:58.106Z"
   },
   {
    "duration": 191,
    "start_time": "2023-03-21T19:38:58.256Z"
   },
   {
    "duration": 57,
    "start_time": "2023-03-21T19:38:58.450Z"
   },
   {
    "duration": 59,
    "start_time": "2023-03-21T19:38:58.522Z"
   },
   {
    "duration": 390,
    "start_time": "2023-03-21T19:38:58.589Z"
   },
   {
    "duration": 11,
    "start_time": "2023-03-21T19:38:58.988Z"
   },
   {
    "duration": 1754,
    "start_time": "2023-03-22T08:04:49.581Z"
   },
   {
    "duration": 174,
    "start_time": "2023-03-22T08:04:51.338Z"
   },
   {
    "duration": 17,
    "start_time": "2023-03-22T08:04:51.514Z"
   },
   {
    "duration": 54,
    "start_time": "2023-03-22T08:04:51.533Z"
   },
   {
    "duration": 54,
    "start_time": "2023-03-22T08:04:51.589Z"
   },
   {
    "duration": 11,
    "start_time": "2023-03-22T08:04:51.646Z"
   },
   {
    "duration": 76,
    "start_time": "2023-03-22T08:04:51.659Z"
   },
   {
    "duration": 9,
    "start_time": "2023-03-22T08:04:51.737Z"
   },
   {
    "duration": 36,
    "start_time": "2023-03-22T08:04:51.748Z"
   },
   {
    "duration": 18,
    "start_time": "2023-03-22T08:04:51.791Z"
   },
   {
    "duration": 6,
    "start_time": "2023-03-22T08:04:51.811Z"
   },
   {
    "duration": 203,
    "start_time": "2023-03-22T08:04:51.818Z"
   },
   {
    "duration": 15,
    "start_time": "2023-03-22T08:04:52.023Z"
   },
   {
    "duration": 21,
    "start_time": "2023-03-22T08:04:52.041Z"
   },
   {
    "duration": 9,
    "start_time": "2023-03-22T08:04:52.064Z"
   },
   {
    "duration": 37,
    "start_time": "2023-03-22T08:04:52.076Z"
   },
   {
    "duration": 5,
    "start_time": "2023-03-22T08:04:52.116Z"
   },
   {
    "duration": 7,
    "start_time": "2023-03-22T08:04:52.123Z"
   },
   {
    "duration": 7,
    "start_time": "2023-03-22T08:04:52.132Z"
   },
   {
    "duration": 12,
    "start_time": "2023-03-22T08:04:52.141Z"
   },
   {
    "duration": 59,
    "start_time": "2023-03-22T08:04:52.155Z"
   },
   {
    "duration": 163,
    "start_time": "2023-03-22T08:04:52.216Z"
   },
   {
    "duration": 26,
    "start_time": "2023-03-22T08:04:52.382Z"
   },
   {
    "duration": 4,
    "start_time": "2023-03-22T08:04:52.410Z"
   },
   {
    "duration": 95145,
    "start_time": "2023-03-22T08:04:52.416Z"
   },
   {
    "duration": 116,
    "start_time": "2023-03-22T08:06:27.563Z"
   },
   {
    "duration": 41,
    "start_time": "2023-03-22T08:06:27.681Z"
   },
   {
    "duration": 88,
    "start_time": "2023-03-22T08:06:27.728Z"
   },
   {
    "duration": 631,
    "start_time": "2023-03-22T08:06:27.818Z"
   },
   {
    "duration": 11,
    "start_time": "2023-03-22T08:06:28.451Z"
   },
   {
    "duration": 2,
    "start_time": "2023-03-22T08:06:28.464Z"
   },
   {
    "duration": 50104,
    "start_time": "2023-03-22T08:06:28.469Z"
   },
   {
    "duration": 98,
    "start_time": "2023-03-22T08:07:18.575Z"
   },
   {
    "duration": 97,
    "start_time": "2023-03-22T08:07:18.675Z"
   },
   {
    "duration": 141,
    "start_time": "2023-03-22T08:07:18.774Z"
   },
   {
    "duration": 90,
    "start_time": "2023-03-22T08:07:18.917Z"
   },
   {
    "duration": 3,
    "start_time": "2023-03-22T08:07:19.009Z"
   },
   {
    "duration": 673,
    "start_time": "2023-03-22T08:07:19.014Z"
   },
   {
    "duration": 18,
    "start_time": "2023-03-22T08:07:19.691Z"
   },
   {
    "duration": 3,
    "start_time": "2023-03-22T08:07:19.711Z"
   },
   {
    "duration": 67836,
    "start_time": "2023-03-22T08:07:19.716Z"
   },
   {
    "duration": 80,
    "start_time": "2023-03-22T08:08:27.554Z"
   },
   {
    "duration": 3,
    "start_time": "2023-03-22T08:08:27.635Z"
   },
   {
    "duration": 85,
    "start_time": "2023-03-22T08:08:27.640Z"
   },
   {
    "duration": 86,
    "start_time": "2023-03-22T08:08:27.727Z"
   },
   {
    "duration": 109,
    "start_time": "2023-03-22T08:08:27.815Z"
   },
   {
    "duration": 3,
    "start_time": "2023-03-22T08:08:27.926Z"
   },
   {
    "duration": 265,
    "start_time": "2023-03-22T08:08:27.930Z"
   },
   {
    "duration": 20,
    "start_time": "2023-03-22T08:08:28.197Z"
   },
   {
    "duration": 3,
    "start_time": "2023-03-22T08:08:28.222Z"
   },
   {
    "duration": 30204,
    "start_time": "2023-03-22T08:08:28.227Z"
   },
   {
    "duration": 83,
    "start_time": "2023-03-22T08:08:58.433Z"
   },
   {
    "duration": 5,
    "start_time": "2023-03-22T08:08:58.518Z"
   },
   {
    "duration": 72,
    "start_time": "2023-03-22T08:08:58.525Z"
   },
   {
    "duration": 118,
    "start_time": "2023-03-22T08:08:58.603Z"
   },
   {
    "duration": 89,
    "start_time": "2023-03-22T08:08:58.729Z"
   },
   {
    "duration": 17,
    "start_time": "2023-03-22T08:08:58.825Z"
   },
   {
    "duration": 261,
    "start_time": "2023-03-22T08:08:58.844Z"
   },
   {
    "duration": 7,
    "start_time": "2023-03-22T08:08:59.107Z"
   },
   {
    "duration": 46,
    "start_time": "2023-03-22T08:10:43.918Z"
   },
   {
    "duration": 1526,
    "start_time": "2023-03-22T08:10:51.162Z"
   },
   {
    "duration": 64,
    "start_time": "2023-03-22T08:10:52.691Z"
   },
   {
    "duration": 20,
    "start_time": "2023-03-22T08:10:52.757Z"
   },
   {
    "duration": 14,
    "start_time": "2023-03-22T08:10:52.779Z"
   },
   {
    "duration": 4,
    "start_time": "2023-03-22T08:10:52.795Z"
   },
   {
    "duration": 9,
    "start_time": "2023-03-22T08:10:52.801Z"
   },
   {
    "duration": 80,
    "start_time": "2023-03-22T08:10:52.812Z"
   },
   {
    "duration": 15,
    "start_time": "2023-03-22T08:10:52.894Z"
   },
   {
    "duration": 14,
    "start_time": "2023-03-22T08:10:52.913Z"
   },
   {
    "duration": 14,
    "start_time": "2023-03-22T08:10:52.929Z"
   },
   {
    "duration": 4,
    "start_time": "2023-03-22T08:10:52.946Z"
   },
   {
    "duration": 171,
    "start_time": "2023-03-22T08:10:52.953Z"
   },
   {
    "duration": 11,
    "start_time": "2023-03-22T08:10:53.127Z"
   },
   {
    "duration": 11,
    "start_time": "2023-03-22T08:10:53.142Z"
   },
   {
    "duration": 6,
    "start_time": "2023-03-22T08:10:53.155Z"
   },
   {
    "duration": 9,
    "start_time": "2023-03-22T08:10:53.162Z"
   },
   {
    "duration": 40,
    "start_time": "2023-03-22T08:10:53.172Z"
   },
   {
    "duration": 6,
    "start_time": "2023-03-22T08:10:53.218Z"
   },
   {
    "duration": 6,
    "start_time": "2023-03-22T08:10:53.226Z"
   },
   {
    "duration": 8,
    "start_time": "2023-03-22T08:10:53.234Z"
   },
   {
    "duration": 27,
    "start_time": "2023-03-22T08:10:53.244Z"
   },
   {
    "duration": 174,
    "start_time": "2023-03-22T08:10:53.273Z"
   },
   {
    "duration": 12,
    "start_time": "2023-03-22T08:10:53.449Z"
   },
   {
    "duration": 5,
    "start_time": "2023-03-22T08:10:53.463Z"
   },
   {
    "duration": 99307,
    "start_time": "2023-03-22T08:10:53.469Z"
   },
   {
    "duration": 94,
    "start_time": "2023-03-22T08:12:32.778Z"
   },
   {
    "duration": 37,
    "start_time": "2023-03-22T08:12:32.873Z"
   },
   {
    "duration": 96,
    "start_time": "2023-03-22T08:12:32.912Z"
   },
   {
    "duration": 598,
    "start_time": "2023-03-22T08:12:33.013Z"
   },
   {
    "duration": 15,
    "start_time": "2023-03-22T08:12:33.613Z"
   },
   {
    "duration": 6,
    "start_time": "2023-03-22T08:12:33.630Z"
   },
   {
    "duration": 51935,
    "start_time": "2023-03-22T08:12:33.638Z"
   },
   {
    "duration": 104,
    "start_time": "2023-03-22T08:13:25.575Z"
   },
   {
    "duration": 91,
    "start_time": "2023-03-22T08:13:25.682Z"
   },
   {
    "duration": 36,
    "start_time": "2023-03-22T08:13:25.775Z"
   },
   {
    "duration": 97,
    "start_time": "2023-03-22T08:13:25.816Z"
   },
   {
    "duration": 6,
    "start_time": "2023-03-22T08:13:25.918Z"
   },
   {
    "duration": 618,
    "start_time": "2023-03-22T08:13:25.927Z"
   },
   {
    "duration": 10,
    "start_time": "2023-03-22T08:13:26.547Z"
   },
   {
    "duration": 2,
    "start_time": "2023-03-22T08:13:26.559Z"
   },
   {
    "duration": 67850,
    "start_time": "2023-03-22T08:13:26.566Z"
   },
   {
    "duration": 74,
    "start_time": "2023-03-22T08:14:34.418Z"
   },
   {
    "duration": 3,
    "start_time": "2023-03-22T08:14:34.504Z"
   },
   {
    "duration": 85,
    "start_time": "2023-03-22T08:14:34.509Z"
   },
   {
    "duration": 108,
    "start_time": "2023-03-22T08:14:34.596Z"
   },
   {
    "duration": 97,
    "start_time": "2023-03-22T08:14:34.706Z"
   },
   {
    "duration": 2,
    "start_time": "2023-03-22T08:14:34.806Z"
   },
   {
    "duration": 271,
    "start_time": "2023-03-22T08:14:34.810Z"
   },
   {
    "duration": 21,
    "start_time": "2023-03-22T08:14:35.083Z"
   },
   {
    "duration": 4,
    "start_time": "2023-03-22T08:14:35.107Z"
   },
   {
    "duration": 28876,
    "start_time": "2023-03-22T08:14:35.113Z"
   },
   {
    "duration": 97,
    "start_time": "2023-03-22T08:15:03.991Z"
   },
   {
    "duration": 3,
    "start_time": "2023-03-22T08:15:04.090Z"
   },
   {
    "duration": 69,
    "start_time": "2023-03-22T08:15:04.104Z"
   },
   {
    "duration": 35,
    "start_time": "2023-03-22T08:15:04.175Z"
   },
   {
    "duration": 205,
    "start_time": "2023-03-22T08:15:04.212Z"
   },
   {
    "duration": 17,
    "start_time": "2023-03-22T08:15:04.419Z"
   },
   {
    "duration": 287,
    "start_time": "2023-03-22T08:15:04.438Z"
   },
   {
    "duration": 7,
    "start_time": "2023-03-22T08:15:04.727Z"
   },
   {
    "duration": 50,
    "start_time": "2023-03-22T08:18:49.496Z"
   },
   {
    "duration": 260,
    "start_time": "2023-03-22T08:19:43.848Z"
   },
   {
    "duration": 6,
    "start_time": "2023-03-22T08:19:51.491Z"
   },
   {
    "duration": 1580,
    "start_time": "2023-03-22T08:23:54.135Z"
   },
   {
    "duration": 43,
    "start_time": "2023-03-22T08:23:55.718Z"
   },
   {
    "duration": 21,
    "start_time": "2023-03-22T08:23:55.762Z"
   },
   {
    "duration": 18,
    "start_time": "2023-03-22T08:23:55.785Z"
   },
   {
    "duration": 5,
    "start_time": "2023-03-22T08:23:55.805Z"
   },
   {
    "duration": 5,
    "start_time": "2023-03-22T08:23:55.812Z"
   },
   {
    "duration": 61,
    "start_time": "2023-03-22T08:23:55.819Z"
   },
   {
    "duration": 9,
    "start_time": "2023-03-22T08:23:55.907Z"
   },
   {
    "duration": 24,
    "start_time": "2023-03-22T08:23:55.918Z"
   },
   {
    "duration": 18,
    "start_time": "2023-03-22T08:23:55.944Z"
   },
   {
    "duration": 5,
    "start_time": "2023-03-22T08:23:55.964Z"
   },
   {
    "duration": 195,
    "start_time": "2023-03-22T08:23:55.970Z"
   },
   {
    "duration": 12,
    "start_time": "2023-03-22T08:23:56.167Z"
   },
   {
    "duration": 23,
    "start_time": "2023-03-22T08:23:56.182Z"
   },
   {
    "duration": 9,
    "start_time": "2023-03-22T08:23:56.207Z"
   },
   {
    "duration": 13,
    "start_time": "2023-03-22T08:23:56.218Z"
   },
   {
    "duration": 5,
    "start_time": "2023-03-22T08:23:56.234Z"
   },
   {
    "duration": 5,
    "start_time": "2023-03-22T08:23:56.241Z"
   },
   {
    "duration": 4,
    "start_time": "2023-03-22T08:23:56.249Z"
   },
   {
    "duration": 6,
    "start_time": "2023-03-22T08:23:56.255Z"
   },
   {
    "duration": 38,
    "start_time": "2023-03-22T08:23:56.303Z"
   },
   {
    "duration": 177,
    "start_time": "2023-03-22T08:23:56.343Z"
   },
   {
    "duration": 11,
    "start_time": "2023-03-22T08:23:56.522Z"
   },
   {
    "duration": 2,
    "start_time": "2023-03-22T08:23:56.536Z"
   },
   {
    "duration": 104705,
    "start_time": "2023-03-22T08:23:56.540Z"
   },
   {
    "duration": 105,
    "start_time": "2023-03-22T08:25:41.247Z"
   },
   {
    "duration": 53,
    "start_time": "2023-03-22T08:25:41.354Z"
   },
   {
    "duration": 22,
    "start_time": "2023-03-22T08:25:41.413Z"
   },
   {
    "duration": 722,
    "start_time": "2023-03-22T08:25:41.437Z"
   },
   {
    "duration": 13,
    "start_time": "2023-03-22T08:25:42.162Z"
   },
   {
    "duration": 3,
    "start_time": "2023-03-22T08:25:42.178Z"
   },
   {
    "duration": 57334,
    "start_time": "2023-03-22T08:25:42.184Z"
   },
   {
    "duration": 127,
    "start_time": "2023-03-22T08:26:39.523Z"
   },
   {
    "duration": 94,
    "start_time": "2023-03-22T08:26:39.653Z"
   },
   {
    "duration": 73,
    "start_time": "2023-03-22T08:26:39.749Z"
   },
   {
    "duration": 90,
    "start_time": "2023-03-22T08:26:39.827Z"
   },
   {
    "duration": 3,
    "start_time": "2023-03-22T08:26:39.920Z"
   },
   {
    "duration": 634,
    "start_time": "2023-03-22T08:26:39.925Z"
   },
   {
    "duration": 17,
    "start_time": "2023-03-22T08:26:40.563Z"
   },
   {
    "duration": 3,
    "start_time": "2023-03-22T08:26:40.582Z"
   },
   {
    "duration": 75531,
    "start_time": "2023-03-22T08:26:40.586Z"
   },
   {
    "duration": 77,
    "start_time": "2023-03-22T08:27:56.119Z"
   },
   {
    "duration": 3,
    "start_time": "2023-03-22T08:27:56.202Z"
   },
   {
    "duration": 95,
    "start_time": "2023-03-22T08:27:56.209Z"
   },
   {
    "duration": 101,
    "start_time": "2023-03-22T08:27:56.311Z"
   },
   {
    "duration": 97,
    "start_time": "2023-03-22T08:27:56.417Z"
   },
   {
    "duration": 5,
    "start_time": "2023-03-22T08:27:56.517Z"
   },
   {
    "duration": 270,
    "start_time": "2023-03-22T08:27:56.524Z"
   },
   {
    "duration": 19,
    "start_time": "2023-03-22T08:27:56.796Z"
   },
   {
    "duration": 5,
    "start_time": "2023-03-22T08:27:56.817Z"
   },
   {
    "duration": 31775,
    "start_time": "2023-03-22T08:27:56.824Z"
   },
   {
    "duration": 106,
    "start_time": "2023-03-22T08:28:28.601Z"
   },
   {
    "duration": 3,
    "start_time": "2023-03-22T08:28:28.709Z"
   },
   {
    "duration": 86,
    "start_time": "2023-03-22T08:28:28.714Z"
   },
   {
    "duration": 21,
    "start_time": "2023-03-22T08:28:28.801Z"
   },
   {
    "duration": 193,
    "start_time": "2023-03-22T08:28:28.824Z"
   },
   {
    "duration": 56,
    "start_time": "2023-03-22T08:28:29.020Z"
   },
   {
    "duration": 270,
    "start_time": "2023-03-22T08:28:29.078Z"
   },
   {
    "duration": 6,
    "start_time": "2023-03-22T08:28:29.351Z"
   }
  ],
  "kernelspec": {
   "display_name": "Python 3 (ipykernel)",
   "language": "python",
   "name": "python3"
  },
  "language_info": {
   "codemirror_mode": {
    "name": "ipython",
    "version": 3
   },
   "file_extension": ".py",
   "mimetype": "text/x-python",
   "name": "python",
   "nbconvert_exporter": "python",
   "pygments_lexer": "ipython3",
   "version": "3.9.13"
  },
  "toc": {
   "base_numbering": 1,
   "nav_menu": {},
   "number_sections": true,
   "sideBar": true,
   "skip_h1_title": true,
   "title_cell": "Содержание",
   "title_sidebar": "Contents",
   "toc_cell": true,
   "toc_position": {
    "height": "calc(100% - 180px)",
    "left": "10px",
    "top": "150px",
    "width": "408.889px"
   },
   "toc_section_display": true,
   "toc_window_display": true
  }
 },
 "nbformat": 4,
 "nbformat_minor": 2
}
